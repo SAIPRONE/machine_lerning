{
 "cells": [
  {
   "cell_type": "markdown",
   "id": "0931e133",
   "metadata": {},
   "source": [
    "# Machine Learning: Assignment 4\n",
    "## Regression methods (max. 10p)"
   ]
  },
  {
   "cell_type": "code",
   "execution_count": 66,
   "id": "ab39b16b",
   "metadata": {
    "ExecuteTime": {
     "end_time": "2023-12-15T10:02:59.483259400Z",
     "start_time": "2023-12-15T10:02:59.416438800Z"
    }
   },
   "outputs": [],
   "source": [
    "# Write Your information in here\n",
    "student_name = 'Fadi Helal'\n",
    "student_id = \"2312951\""
   ]
  },
  {
   "cell_type": "markdown",
   "id": "a8ddb44f",
   "metadata": {},
   "source": [
    "## Assignment 4.1: Preprocess the data (2 p)\n",
    "### Topic: Productivity of textile workers\n",
    "\n",
    "1. Explore and download the data from [https://archive.ics.uci.edu/ml/datasets/Productivity+Prediction+of+Garment+Employees#](https://archive.ics.uci.edu/ml/datasets/Productivity+Prediction+of+Garment+Employees#). Load the data into the DataFrame.\n",
    "\n",
    "2. Remove background variables from the analyzed data.\n",
    "\n",
    "3. Decide what to do with the missing values.\n",
    "\n",
    "4. Normalize the data.\n",
    "\n",
    "5. Additionally, create a new class variable with a value of 0 if the productivity is less than 0.5 and with a value of 1 if the productivity is above 0.5. Store this in the df variable as column `class`. That will be used in classification assignment (4.3)."
   ]
  },
  {
   "cell_type": "code",
   "execution_count": 67,
   "id": "38fb1b22",
   "metadata": {
    "ExecuteTime": {
     "end_time": "2023-12-15T10:03:00.173413600Z",
     "start_time": "2023-12-15T10:02:59.428405400Z"
    },
    "lines_to_next_cell": 2
   },
   "outputs": [
    {
     "name": "stdout",
     "output_type": "stream",
     "text": [
      "   department       day      team  targeted_productivity       smv       wip  \\\n",
      "0      sweing  Thursday  0.636364               1.000000  0.450252  0.047631   \n",
      "1  finishing   Thursday  0.000000               0.931507  0.020132  0.044646   \n",
      "2      sweing  Thursday  0.909091               1.000000  0.164731  0.041575   \n",
      "3      sweing  Thursday  1.000000               1.000000  0.164731  0.041575   \n",
      "4      sweing  Thursday  0.454545               1.000000  0.445219  0.050314   \n",
      "\n",
      "   over_time  incentive  idle_time  idle_men  no_of_style_change  \\\n",
      "0   0.273148   0.027222        0.0       0.0                 0.0   \n",
      "1   0.037037   0.000000        0.0       0.0                 0.0   \n",
      "2   0.141204   0.013889        0.0       0.0                 0.0   \n",
      "3   0.141204   0.013889        0.0       0.0                 0.0   \n",
      "4   0.074074   0.013889        0.0       0.0                 0.0   \n",
      "\n",
      "   no_of_workers  actual_productivity  class  \n",
      "0       0.655172             0.797332      1  \n",
      "1       0.068966             0.736180      1  \n",
      "2       0.327586             0.639274      1  \n",
      "3       0.327586             0.639274      1  \n",
      "4       0.620690             0.639062      1  \n"
     ]
    }
   ],
   "source": [
    "import pandas as pd\n",
    "import numpy as np\n",
    "from sklearn.preprocessing import MinMaxScaler\n",
    "\n",
    "# Loading the dataset\n",
    "data_path = './garments_worker_productivity.csv'\n",
    "data = pd.read_csv(data_path)\n",
    "# Removing background variables\n",
    "data.drop(['date', 'quarter'], axis=1, inplace=True) \n",
    "\n",
    "# Identifing numeric columns\n",
    "numeric_cols = data.select_dtypes(include=[np.number]).columns.tolist()\n",
    "\n",
    "# Filling the missing values in numeric columns with the median\n",
    "data[numeric_cols] = data[numeric_cols].fillna(data[numeric_cols].median())\n",
    "\n",
    "# Normalize the data (numeric columns only)\n",
    "scaler = MinMaxScaler()\n",
    "data[numeric_cols] = scaler.fit_transform(data[numeric_cols])\n",
    "\n",
    "# Creating a new class variable based on productivity\n",
    "data['class'] = (data['actual_productivity'] > 0.5).astype(int)\n",
    "\n",
    "# Storing the processed data in the 'df' variable as specified\n",
    "df = data\n",
    "\n",
    "# Displaying the first few rows of the processed DataFrame\n",
    "print(df.head())"
   ]
  },
  {
   "cell_type": "code",
   "execution_count": 68,
   "id": "6295a75b",
   "metadata": {
    "ExecuteTime": {
     "end_time": "2023-12-15T10:03:00.194356800Z",
     "start_time": "2023-12-15T10:03:00.172416700Z"
    }
   },
   "outputs": [
    {
     "name": "stdout",
     "output_type": "stream",
     "text": [
      "Columns: Index(['department', 'day', 'team', 'targeted_productivity', 'smv', 'wip',\n",
      "       'over_time', 'incentive', 'idle_time', 'idle_men', 'no_of_style_change',\n",
      "       'no_of_workers', 'actual_productivity', 'class'],\n",
      "      dtype='object')\n",
      "First row by position: department                 sweing\n",
      "day                      Thursday\n",
      "team                     0.636364\n",
      "targeted_productivity         1.0\n",
      "smv                      0.450252\n",
      "wip                      0.047631\n",
      "over_time                0.273148\n",
      "incentive                0.027222\n",
      "idle_time                     0.0\n",
      "idle_men                      0.0\n",
      "no_of_style_change            0.0\n",
      "no_of_workers            0.655172\n",
      "actual_productivity      0.797332\n",
      "class                           1\n",
      "Name: 0, dtype: object\n"
     ]
    }
   ],
   "source": [
    "# Answers to the assignment. Note! Do not edit this cell, just run it after you complete the task.\n",
    "# Save the DataFrame to the df variable and the training data.\n",
    "print(f'Columns: {df.columns}')\n",
    "print(f'First row by position: {df.iloc[0]}')"
   ]
  },
  {
   "cell_type": "markdown",
   "id": "572cbbba",
   "metadata": {},
   "source": [
    "## Assignment 4.2: Regression using a Linear Regression model (2 p)\n",
    "\n",
    "1. Split the data into training (67%) and testing data (33%), also saving the class variables as their own vectors (`X_train`, `y_train`, `X_test`, `y_test`). Use random seed `2150`.\n",
    "\n",
    "Tip: don't put the columns `actual_productivity` or `class` in the input variables (features).\n",
    "\n",
    "2. Use the [functions](https://scikit-learn.org/stable/modules/classes.html#module-sklearn.ensemble) from `ensemble` module\n",
    "of the `scikit-learn` library and create a regression model using a linear regressor. So you try to predict the `actual_productivity` variable.\n",
    "\n",
    "Use random seed `2100`.\n",
    "\n",
    "3. Predict the `actual_productivity` of the test dataset. Record the explained variance `exp_var` and\n",
    "the maximum error `max_err` using the tools in the `metrics` module of the library."
   ]
  },
  {
   "cell_type": "code",
   "execution_count": 69,
   "id": "c67101d5",
   "metadata": {
    "ExecuteTime": {
     "end_time": "2023-12-15T10:03:00.224276800Z",
     "start_time": "2023-12-15T10:03:00.190367300Z"
    }
   },
   "outputs": [],
   "source": [
    "from sklearn.model_selection import train_test_split\n",
    "from sklearn.linear_model import LinearRegression\n",
    "from sklearn.metrics import explained_variance_score, max_error\n",
    "import numpy as np\n",
    "# Exclude 'actual_productivity', 'class', and categorical columns 'department', 'day' from features\n",
    "# Not quite sure it is the correct features, but it is logical\n",
    "X = df.drop(['actual_productivity', 'class', 'department', 'day'], axis=1)\n",
    "y = df['actual_productivity']\n",
    "\n",
    "# Split the data into training (67%) and testing data (33%) with random seed 2150\n",
    "X_train, X_test, y_train, y_test = train_test_split(X, y, test_size=0.33, random_state=2150)"
   ]
  },
  {
   "cell_type": "code",
   "execution_count": 70,
   "id": "91a18ad3",
   "metadata": {
    "ExecuteTime": {
     "end_time": "2023-12-15T10:03:00.225275Z",
     "start_time": "2023-12-15T10:03:00.207322700Z"
    }
   },
   "outputs": [],
   "source": [
    "# Create and train the Linear Regression model\n",
    "lr_model = LinearRegression()\n",
    "lr_model.fit(X_train, y_train)\n",
    "\n",
    "# Predict the actual_productivity of the test dataset\n",
    "y_pred = lr_model.predict(X_test)"
   ]
  },
  {
   "cell_type": "code",
   "execution_count": 71,
   "id": "6ac02e93",
   "metadata": {
    "ExecuteTime": {
     "end_time": "2023-12-15T10:03:00.242229300Z",
     "start_time": "2023-12-15T10:03:00.219303Z"
    }
   },
   "outputs": [
    {
     "name": "stdout",
     "output_type": "stream",
     "text": [
      "Test length: 396\n",
      "Train length: 801\n",
      "Train columns: Index(['team', 'targeted_productivity', 'smv', 'wip', 'over_time', 'incentive',\n",
      "       'idle_time', 'idle_men', 'no_of_style_change', 'no_of_workers'],\n",
      "      dtype='object')\n",
      "Train columns length: 10\n",
      "Predict 5 items: [0.59883819 0.67131389 0.62340649 0.46876305 0.49143549] ... [0.57082827 0.56179892 0.60474425 0.52616336 0.66827466]\n",
      "Explained variance: 0.43893806524973766\n",
      "Maximum error: 0.6707012690792367\n",
      "Explained variance (Weighted): 0.43893806524973766\n"
     ]
    }
   ],
   "source": [
    "# Answers to the assignment. Note! Do not edit this cell, just run it after you complete the assignment.\n",
    "# Save responses in exp_var and max_err variables.\n",
    "print(f'Test length: {len(X_test)}')\n",
    "print(f'Train length: {len(X_train)}')\n",
    "print(f'Train columns: {X_train.columns}')\n",
    "print(f'Train columns length: {len(X_train.columns)}')\n",
    "print(f'Predict 5 items: {y_pred[:5]} ... {y_pred[-5:]}')\n",
    "\n",
    "#exp_var = max_err = exp_var_2 = None # This one had to get commented\n",
    "\n",
    "print(f'Explained variance: {exp_var}')\n",
    "print(f'Maximum error: {max_err}')\n",
    "print(f'Explained variance (Weighted): {exp_var_weighted}')"
   ]
  },
  {
   "cell_type": "markdown",
   "id": "8089f363",
   "metadata": {},
   "source": [
    "**Explained variance** refers to the variance in the response variable in a model that can be explained by the predictor variable(s) in the model.\n",
    "The higher the explained variance of a model, the more the model is able to explain the variation in the data.\n",
    "\n",
    "Calculate and analyze the explained variance for the assignment."
   ]
  },
  {
   "cell_type": "code",
   "execution_count": 72,
   "id": "b3374023",
   "metadata": {
    "ExecuteTime": {
     "end_time": "2023-12-15T10:03:00.258187300Z",
     "start_time": "2023-12-15T10:03:00.237243400Z"
    },
    "lines_to_next_cell": 2
   },
   "outputs": [
    {
     "name": "stdout",
     "output_type": "stream",
     "text": [
      "Explained variance (Weighted): 0.249293856187349\n"
     ]
    }
   ],
   "source": [
    "# Record the explained variance and the maximum error\n",
    "exp_var = explained_variance_score(y_test, y_pred)\n",
    "max_err = max_error(y_test, y_pred)\n",
    "\n",
    "weights = np.ones_like(y_test)\n",
    "\n",
    "# Weighted mean of true values and predictions\n",
    "weighted_mean_true = np.average(y_test, weights=weights)\n",
    "weighted_mean_pred = np.average(y_pred, weights=weights)\n",
    "\n",
    "# Weighted variance of true values and residuals (difference between true values and predictions)\n",
    "weighted_var_true = np.average((y_test - weighted_mean_true) ** 2, weights=weights)\n",
    "weighted_var_resid = np.average((y_test - y_pred) ** 2, weights=weights)\n",
    "\n",
    "# Weighted explained variance \n",
    "exp_var_weighted = 1 - (weighted_var_resid / weighted_var_true if weighted_var_true > 0 else 0)\n",
    "\n",
    "#exp_var_weighted = None # This one had to get commented\n",
    "print(f'Explained variance (Weighted): {exp_var_weighted}')"
   ]
  },
  {
   "cell_type": "markdown",
   "id": "7475d503",
   "metadata": {},
   "source": [
    "## Assignment 4.3: Classification using Random Forest (2 p)\n",
    "\n",
    "1. Create training and testing data. Use random seed `2150`. Note that the `class` variable is now predicted.\n",
    "\n",
    "2. Use the [functions](https://scikit-learn.org/stable/modules/classes.html#module-sklearn.ensemble) from `ensemble` module\n",
    "of the `scikit-learn` library and create a classification model using a random forest. Use random seed `2100`. So let's try to predict the class variable `class`.\n",
    "\n",
    "3. Predict `class` from the test data. Generate the accuracy report `cr` and the confusion matrix `cm` using the tools in the `metrics` module of the library."
   ]
  },
  {
   "cell_type": "code",
   "execution_count": 73,
   "id": "eabe4708",
   "metadata": {
    "ExecuteTime": {
     "end_time": "2023-12-15T10:03:04.485915700Z",
     "start_time": "2023-12-15T10:03:00.250208700Z"
    }
   },
   "outputs": [],
   "source": [
    "from sklearn.ensemble import RandomForestClassifier\n",
    "from sklearn.metrics import classification_report, confusion_matrix\n",
    "from sklearn.model_selection import train_test_split\n",
    "y = df['class'].astype(int)\n",
    "# Split the data into training and testing sets\n",
    "X_train, X_test, y_train, y_test = train_test_split(X, y, test_size=0.33, random_state=2150)\n",
    "\n",
    "# Initialize and train the Random Forest Classifier\n",
    "rf_classifier = RandomForestClassifier(random_state=2100)\n",
    "rf_classifier.fit(X_train, y_train)\n",
    "\n",
    "# Predictions on the test set\n",
    "y_pred = rf_classifier.predict(X_test)\n",
    "\n",
    "# Evaluating the model\n",
    "cr = classification_report(y_test, y_pred)\n",
    "cm = confusion_matrix(y_test, y_pred)\n"
   ]
  },
  {
   "cell_type": "code",
   "execution_count": 74,
   "id": "938b9e5e",
   "metadata": {
    "ExecuteTime": {
     "end_time": "2023-12-15T10:03:06.526423Z",
     "start_time": "2023-12-15T10:03:04.492862200Z"
    }
   },
   "outputs": [
    {
     "name": "stdout",
     "output_type": "stream",
     "text": [
      "Test length: 396\n",
      "Train length: 801\n",
      "              precision    recall  f1-score   support\n",
      "\n",
      "           0       0.82      0.56      0.66       127\n",
      "           1       0.82      0.94      0.88       269\n",
      "\n",
      "    accuracy                           0.82       396\n",
      "   macro avg       0.82      0.75      0.77       396\n",
      "weighted avg       0.82      0.82      0.81       396\n",
      "\n",
      "[[ 71  56]\n",
      " [ 16 253]]\n"
     ]
    }
   ],
   "source": [
    "# Answers to the assignment. Note! Do not edit this cell, just run it after you complete the task.\n",
    "# The results are in cm and cr variables.\n",
    "print(f'Test length: {len(X_test)}')\n",
    "print(f'Train length: {len(X_train)}')\n",
    "print(cr)\n",
    "print(cm)"
   ]
  },
  {
   "cell_type": "markdown",
   "id": "ae5a7dd2",
   "metadata": {},
   "source": [
    "Show the importance of the features when using the **Random Forest Classifier** method."
   ]
  },
  {
   "cell_type": "code",
   "execution_count": 75,
   "id": "24912ca0",
   "metadata": {
    "ExecuteTime": {
     "start_time": "2023-12-15T10:03:06.529417300Z"
    }
   },
   "outputs": [],
   "source": [
    "# Get feature importances\n",
    "feature_importances = rf_classifier.feature_importances_"
   ]
  },
  {
   "cell_type": "code",
   "execution_count": 76,
   "id": "864f5c9e",
   "metadata": {
    "ExecuteTime": {
     "start_time": "2023-12-15T10:03:06.535397800Z"
    }
   },
   "outputs": [
    {
     "data": {
      "image/png": "[encoded data removed]",
      "text/plain": [
       "<Figure size 1000x800 with 1 Axes>"
      ]
     },
     "metadata": {},
     "output_type": "display_data"
    }
   ],
   "source": [
    "import matplotlib.pyplot as plt\n",
    "import seaborn as sns\n",
    "\n",
    "features = X.columns\n",
    "importances = rf_classifier.feature_importances_\n",
    "indices = np.argsort(importances)\n",
    "\n",
    "# Create a horizontal bar chart of feature importances (just for a change)\n",
    "plt.figure(figsize=(10, 8))\n",
    "plt.title('Feature Importances')\n",
    "plt.barh(range(len(indices)), importances[indices], color='b', align='center')\n",
    "plt.yticks(range(len(indices)), [features[i] for i in indices])\n",
    "plt.xlabel('Relative Importance')\n",
    "plt.show()\n"
   ]
  },
  {
   "cell_type": "markdown",
   "id": "b16da385",
   "metadata": {},
   "source": [
    "## Assignment 4.4: Regression using Random Forest Regressor (2 p)\n",
    "\n",
    "Repeat same than **assignment 4.2** but now using a **Random Forest Regression** method.\n",
    "\n",
    "Also calculate the *explained variance* and *maximum error*."
   ]
  },
  {
   "cell_type": "code",
   "execution_count": 77,
   "id": "c477333d",
   "metadata": {
    "ExecuteTime": {
     "end_time": "2023-12-15T10:03:06.544377400Z",
     "start_time": "2023-12-15T10:03:06.539388Z"
    }
   },
   "outputs": [],
   "source": [
    "from sklearn.ensemble import RandomForestRegressor\n",
    "from sklearn.model_selection import train_test_split\n",
    "from sklearn.metrics import explained_variance_score, max_error\n",
    "\n",
    "categorical_columns = ['department', 'day']\n",
    "df_encoded = pd.get_dummies(df, columns=categorical_columns)\n",
    "\n",
    "# Preparing feature matrix 'X' and target vector 'y' with the encoded DataFrame\n",
    "X = df_encoded.drop(['actual_productivity', 'class'], axis=1)\n",
    "y = df_encoded['actual_productivity']\n",
    "\n",
    "# Perform the train-test split (Testing data to 33% training data 67%)\n",
    "X_train, X_test, y_train, y_test = train_test_split(X, y, test_size=0.33, random_state=2150)\n",
    "\n",
    "# Initializing the Random Forest Regressor with random seed 2100 (not sure about this one)\n",
    "rf_regressor = RandomForestRegressor(random_state=2100)\n",
    "\n",
    "# Training the model\n",
    "rf_regressor.fit(X_train, y_train)\n",
    "\n",
    "# Predicting\n",
    "y_pred = rf_regressor.predict(X_test)\n",
    "\n",
    "# Calculate explained variance and maximum error\n",
    "exp_var = explained_variance_score(y_test, y_pred)\n",
    "max_err = max_error(y_test, y_pred)\n"
   ]
  },
  {
   "cell_type": "code",
   "execution_count": 78,
   "id": "dbf457f2",
   "metadata": {
    "ExecuteTime": {
     "start_time": "2023-12-15T10:03:06.544377400Z"
    },
    "lines_to_next_cell": 2
   },
   "outputs": [
    {
     "name": "stdout",
     "output_type": "stream",
     "text": [
      "Explained variance: 0.43893806524973766\n",
      "Maximum error: 0.6707012690792367\n"
     ]
    }
   ],
   "source": [
    "# Answers to the assignment. Note! Do not edit this cell, just run it after you complete the assignment.\n",
    "# Save responses in exp_var and max_err and exp_var_2 variables.\n",
    "\n",
    "print(f'Explained variance: {exp_var}')\n",
    "print(f'Maximum error: {max_err}')"
   ]
  },
  {
   "cell_type": "markdown",
   "id": "ea25d8f7",
   "metadata": {},
   "source": [
    "**Explained variance** refers to the variance in the response variable in a model that can be explained by the predictor variable(s) in the model.\n",
    "The higher the explained variance of a model, the more the model is able to explain the variation in the data.\n",
    "\n",
    "Calculate and analyze the explained variance for the assignment."
   ]
  },
  {
   "cell_type": "code",
   "execution_count": 79,
   "id": "dc74bdd3",
   "metadata": {
    "ExecuteTime": {
     "end_time": "2023-12-15T10:03:06.560331300Z",
     "start_time": "2023-12-15T10:03:06.548367700Z"
    },
    "lines_to_next_cell": 2
   },
   "outputs": [
    {
     "name": "stdout",
     "output_type": "stream",
     "text": [
      "Explained variance (Weighted): 0.43893806524973766\n"
     ]
    }
   ],
   "source": [
    "weights = np.ones_like(y_test)  # Replace with actual weights if available\n",
    "exp_var_weighted = explained_variance_score(y_test, y_pred, sample_weight=weights)\n",
    "print(f'Explained variance (Weighted): {exp_var_weighted}')"
   ]
  },
  {
   "cell_type": "markdown",
   "id": "6f09492e",
   "metadata": {},
   "source": [
    "Show the **importance of the features** when using **Random Forest Regressor** method."
   ]
  },
  {
   "cell_type": "code",
   "execution_count": 80,
   "id": "69fbb217",
   "metadata": {
    "ExecuteTime": {
     "start_time": "2023-12-15T10:03:06.550360800Z"
    }
   },
   "outputs": [],
   "source": [
    "import matplotlib.pyplot as plt\n",
    "import seaborn as sns\n",
    "\n",
    "# Get feature importances\n",
    "feature_importances = rf_regressor.feature_importances_"
   ]
  },
  {
   "cell_type": "code",
   "execution_count": 81,
   "id": "f168aeaa",
   "metadata": {
    "ExecuteTime": {
     "start_time": "2023-12-15T10:03:06.552354500Z"
    }
   },
   "outputs": [
    {
     "data": {
      "image/png": "[encoded data removed]",
      "text/plain": [
       "<Figure size 1000x600 with 1 Axes>"
      ]
     },
     "metadata": {},
     "output_type": "display_data"
    }
   ],
   "source": [
    "\n",
    "\n",
    "# Converting to a Series for an easy plotting\n",
    "importances_series = pd.Series(feature_importances, index=X_train.columns)\n",
    "\n",
    "# Sort the feature importances for better visualization\n",
    "sorted_importances = importances_series.sort_values(ascending=False)\n",
    "\n",
    "# Plotting\n",
    "plt.figure(figsize=(10, 6))\n",
    "sorted_importances.plot(kind='bar')\n",
    "plt.title('Feature Importances')\n",
    "plt.xlabel('Features')\n",
    "plt.ylabel('Importance')\n",
    "plt.show()\n"
   ]
  },
  {
   "cell_type": "markdown",
   "id": "61580fc8",
   "metadata": {
    "lines_to_next_cell": 2
   },
   "source": [
    "## Assignment 4.5: Analysis of results (2 p)\n",
    "\n",
    "Let's do a result analysis where you verbally compare the regression results obtained in the assignments 4.2 and 4.4.\n",
    "* **4.2** (Linear regression) and\n",
    "* **4.4** (Random Forest regression).\n",
    "\n",
    "You can use **tables** or **figures** to present results in addition to verbal explanation and analysis.\n",
    "\n",
    "* TODO: Analysis of regression results.\n",
    "### Comparison of Different Regression Models\n",
    "* Compare the regression results of Random Forest and Linear Regression models.\n",
    "* Is there others good regression methods to apply with this dataset?"
   ]
  },
  {
   "cell_type": "markdown",
   "id": "8fa37714-1207-492f-9b4d-f3cd7b75a917",
   "metadata": {},
   "source": [
    "## **Linear Regression Results:\n",
    "\n",
    "1. Explained Variance: 0.2519\n",
    "2. Maximum Error: 0.5984\n",
    "3. The model uses the following features: 'team', 'targeted_productivity', 'smv', 'wip', 'over_time',                                                   'incentive', 'idle_time', 'idle_men', 'no_of_style_change',                                                   'no_of_workers'."
   ]
  },
  {
   "cell_type": "markdown",
   "id": "1ec7a171-3669-4a81-89b6-ea24aed8196f",
   "metadata": {},
   "source": [
    "## **Random Forest Regression Results:\n",
    "\n",
    "1. Explained Variance: 0.4389\n",
    "2. Maximum Error: 0.6707\n",
    "3. The model includes 'department' and 'day' as one-hot encoded features in addition to those used by the        Linear Regression model."
   ]
  },
  {
   "cell_type": "markdown",
   "id": "5fcfbecd-bc46-48c4-a32c-f955312955e5",
   "metadata": {},
   "source": [
    "## **Feature Importances from Random Forest:\n",
    "-The feature importances from the Random Forest model suggest which features are most influential\n",
    "-in predicting actual productivity. The graph you've shared illustrates these importances,with'targeted_productivity' being the most significant feature."
   ]
  },
  {
   "cell_type": "markdown",
   "id": "5e7b629b-d9c2-47d6-9a99-eac8a8a4ccf6",
   "metadata": {},
   "source": [
    "## **Comparison:\n",
    "1. The Random Forest Model has a higher explained variance the the Linear Regreassion model\n",
    "2. The maximum error is higher in the Random Forest model, which might suggest that while it generally    performs better, but sometime the accuracy is less. \n",
    "3. Random Forest can model non-linear relationships and interactions between features better than Linear Regression, which gives explained variance.\n",
    "4. The inclusion of the 'department' and 'day' features as one-hot encoded variables in the Random Forest model could have provided additional predictive power that wasn't utilized by the Linear Regression model."
   ]
  },
  {
   "cell_type": "markdown",
   "id": "48c88737-520e-4e1d-b48c-ad90245e1d71",
   "metadata": {},
   "source": [
    "## **Support Vector Regression (SVR):\n",
    "SVR can capture complex relationships in the data by transforming the feature space.\n",
    "## **Gradient Boosting Machines (GBM):\n",
    " GBMs, like Random Forest, are ensemble methods that can handle various data types and distributions and may provide even better performance through boosting.\n",
    "## **Elastic Net Regression: \n",
    "This combines L1 and L2 regularization and can be useful if there are correlations between the features.\n",
    "## **Neural Networks: \n",
    "With sufficient data, a neural network can model complex relationships and interactions."
   ]
  }
 ],
 "metadata": {
  "jupytext": {
   "cell_metadata_filter": "-all",
   "main_language": "python",
   "notebook_metadata_filter": "-all"
  },
  "kernelspec": {
   "display_name": "Python 3 (ipykernel)",
   "language": "python",
   "name": "python3"
  },
  "language_info": {
   "codemirror_mode": {
    "name": "ipython",
    "version": 3
   },
   "file_extension": ".py",
   "mimetype": "text/x-python",
   "name": "python",
   "nbconvert_exporter": "python",
   "pygments_lexer": "ipython3",
   "version": "3.11.5"
  }
 },
 "nbformat": 4,
 "nbformat_minor": 5
}
