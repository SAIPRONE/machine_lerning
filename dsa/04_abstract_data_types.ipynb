{
 "cells": [
  {
   "cell_type": "markdown",
   "id": "ed7cdad1",
   "metadata": {},
   "source": [
    "# Assignment 4\n",
    "\n",
    "These assignments are related to different **Abstract Data Types** (*ADT*).\n",
    "* Read the related course material before doing the assignments from the [Abstract Data Type (ADT)](https://ttc1050.pages.labranet.jamk.fi/ds_alg_material/materials/04_abstract_datatypes/).\n",
    "\n",
    "General notes of assignments:\n",
    "* NOTE! In general, after the implementation of the function, all assignments have a test program for the function.\n",
    "* NOTE! Add your code in the assignments only after the TODO lines."
   ]
  },
  {
   "cell_type": "markdown",
   "id": "914a3701",
   "metadata": {},
   "source": [
    "## Assignment 4.1 (1 p)\n",
    "\n",
    "In Python, the `queue` module provides the `Queue` class, which is a _First-In-First-Out_ (FIFO), i.e. **queue**, data structure.\n",
    "Use this class in this assignment.\n",
    "\n",
    "Create a `create_even_odd` function that places, without changing the original order,\n",
    "the original array into two separate queues that are:\n",
    "* First `Queue` contains even integers in `even_que` variable.\n",
    "* Second `Queue` contains odd integers in `odd_que` variable.\n",
    "\n",
    "At the end of the `create_even_add()` function, add both queues (`even_que`, `odd_que`) to list and return this list.\n",
    "\n",
    "Note! The test program has already been implemented, so please don't edit it."
   ]
  },
  {
   "cell_type": "code",
   "execution_count": 1,
   "id": "2db8dd8e",
   "metadata": {
    "ExecuteTime": {
     "end_time": "2024-01-05T13:47:12.251350100Z",
     "start_time": "2024-01-05T13:47:10.274503600Z"
    }
   },
   "outputs": [
    {
     "name": "stdout",
     "output_type": "stream",
     "text": [
      "answer [[18, 2, 4, 18, 8, 14], [15, 3, 11, 5, 7, 21]] was OK!\n"
     ]
    }
   ],
   "source": [
    "import queue\n",
    "\n",
    "correct_answer_04_01 = [[18, 2, 4, 18, 8, 14], [15, 3, 11, 5, 7, 21]]\n",
    "\n",
    "numbers = [18, 2, 4, 15, 18, 3, 11, 8, 14, 5, 7, 21]\n",
    "\n",
    "\n",
    "def create_even_add(a):\n",
    "    even_que = queue.Queue()\n",
    "    odd_que = queue.Queue()\n",
    "    # Iterating over the input list and enqueue elements\n",
    "    for num in a:\n",
    "        if num % 2 == 0: \n",
    "            even_que.put(num)\n",
    "        else:  \n",
    "            odd_que.put(num)\n",
    "        \n",
    "    return [even_que, odd_que]\n",
    "\n",
    "# Test\n",
    "res_queues = create_even_add(numbers)\n",
    "res_list = [list(res_queues[0].queue), list(res_queues[1].queue)]\n",
    "\n",
    "assert res_list == correct_answer_04_01\n",
    "print(f\"answer {res_list} was OK!\")"
   ]
  },
  {
   "cell_type": "markdown",
   "id": "62243f4e",
   "metadata": {},
   "source": [
    "## Assignment 4.2 (1 p)\n",
    "\n",
    "Create an `ask_array_from_user()` function, which asks user to input *integers*. Note that only integers are allowed.\n",
    "* Integers will then be stored into the queue one by one.\n",
    "* When the user inputs integer `0`, the content of the queue will be printed for the user and the program will be ended. Note that integer `0` should not be stored into the queue.\n",
    "\n",
    "Note! The test program has already been implemented, so please don't edit it."
   ]
  },
  {
   "cell_type": "code",
   "execution_count": 2,
   "id": "939eef86",
   "metadata": {
    "ExecuteTime": {
     "end_time": "2024-01-05T13:59:08.479714300Z",
     "start_time": "2024-01-05T13:59:08.353875500Z"
    },
    "lines_to_next_cell": 2
   },
   "outputs": [
    {
     "name": "stdout",
     "output_type": "stream",
     "text": [
      "Enter at least three integers. Enter a number of zero (0) to stop.\n"
     ]
    },
    {
     "name": "stdin",
     "output_type": "stream",
     "text": [
      "Give 0. element>  1\n",
      "Give 1. element>  2\n",
      "Give 2. element>  3\n",
      "Give 3. element>  4\n",
      "Give 4. element>  5\n",
      "Give 5. element>  6\n",
      "Give 6. element>  7\n",
      "Give 7. element>  8\n",
      "Give 8. element>  9\n",
      "Give 9. element>  1\n",
      "Give 10. element>  210\n",
      "Give 11. element>  2\n",
      "Give 12. element>  4545\n",
      "Give 13. element>  2530.\n"
     ]
    },
    {
     "name": "stdout",
     "output_type": "stream",
     "text": [
      "Please enter an integer!\n"
     ]
    },
    {
     "name": "stdin",
     "output_type": "stream",
     "text": [
      "Give 13. element>  250\n",
      "Give 14. element>  142\n",
      "Give 15. element>  2852\n",
      "Give 16. element>  14\n",
      "Give 17. element>  1451431\n",
      "Give 18. element>  0\n"
     ]
    },
    {
     "name": "stdout",
     "output_type": "stream",
     "text": [
      "You entered:  [1, 2, 3, 4, 5, 6, 7, 8, 9, 1, 210, 2, 4545, 250, 142, 2852, 14, 1451431]\n",
      "answer [1, 2, 3, 4, 5, 6, 7, 8, 9, 1, 210, 2, 4545, 250, 142, 2852, 14, 1451431] was OK!\n"
     ]
    }
   ],
   "source": [
    "import unittest\n",
    "import queue\n",
    "\n",
    "def ask_array_from_user():\n",
    "    input_queue = queue.Queue()\n",
    "    i = 0\n",
    "    print(\"Enter at least three integers. Enter a number of zero (0) to stop.\")\n",
    "    \n",
    "    while True:\n",
    "        # Asking for input\n",
    "        user_input = input(f\"Give {i}. element> \")\n",
    "\n",
    "        try:\n",
    "            # Attempting to convert the input to an integer\n",
    "            num = int(user_input)\n",
    "        except ValueError:\n",
    "            # Ask for Integer if parsing failed\n",
    "            print(\"Please enter an integer!\")\n",
    "            continue\n",
    "\n",
    "        # Break the loop if \"0\" was entered\n",
    "        if num == 0:\n",
    "            break\n",
    "\n",
    "        # Adding the input to the queue\n",
    "        input_queue.put(num)\n",
    "        i += 1\n",
    "\n",
    "    # Converting the queue to a list\n",
    "    queue_list = list(input_queue.queue)\n",
    "    print(\"You entered: \", queue_list)\n",
    "\n",
    "    return input_queue\n",
    "\n",
    "\n",
    "# Test Program\n",
    "res = ask_array_from_user()\n",
    "res = list(res.queue)  # convert to list for testing\n",
    "\n",
    "assert res[0] is not None and type(res[0] is int), f\"First element {res[0]} was wrong\"\n",
    "assert len(res) >= 3, f\"Length {len(res)} < 3\"\n",
    "assert all(isinstance(item, int) for item in res), True\n",
    "print(f\"answer {res} was OK!\")"
   ]
  },
  {
   "cell_type": "markdown",
   "id": "5c32dae9",
   "metadata": {},
   "source": [
    "## Assignment 4.3 (1 p)\n",
    "\n",
    "Create a function, that will take the `letters` list and store the content of this list into the stack.\n",
    "The content and the size of the stack should be printed after each insertion.\n",
    "\n",
    "Stack in Python can be implemented using the following ways: \n",
    "* `list`\n",
    "* `collections.deque`\n",
    "* `queue.LifoQueue`\n",
    "\n",
    "You can also use the `collections.deque` class, which is a double-ended queue, to implement a stack.\n",
    "It is more efficient than `list`. In this assignment, we use `collections.deque` implementation for stack.\n",
    "\n",
    "Do the following task in the functions:\n",
    "* in `create_stack()` function you will create _stack_ from the input `list`. It must return `deque` object.\n",
    "* In the `pop_stack() function, you pop all elements of the stack and store the values in the list in the order they were popped. It must return `list`.\n",
    "\n",
    "Note! Test program has already been implemented and please don't edit it."
   ]
  },
  {
   "cell_type": "code",
   "execution_count": 3,
   "id": "bb6564ab",
   "metadata": {
    "ExecuteTime": {
     "end_time": "2024-01-05T13:59:14.815113500Z",
     "start_time": "2024-01-05T13:59:14.767219900Z"
    },
    "lines_to_next_cell": 2
   },
   "outputs": [
    {
     "name": "stdout",
     "output_type": "stream",
     "text": [
      "Stack now: ['a'], Size: 1\n",
      "Stack now: ['a', 'b'], Size: 2\n",
      "Stack now: ['a', 'b', 'c'], Size: 3\n",
      "Stack now: ['a', 'b', 'c', 'd'], Size: 4\n",
      "Stack now: ['a', 'b', 'c', 'd', 'e'], Size: 5\n",
      "Stack deque(['a', 'b', 'c', 'd', 'e']) was OK!\n",
      "Popped: e, Stack now: ['a', 'b', 'c', 'd']\n",
      "Popped: d, Stack now: ['a', 'b', 'c']\n",
      "Popped: c, Stack now: ['a', 'b']\n",
      "Popped: b, Stack now: ['a']\n",
      "Popped: a, Stack now: []\n",
      "Popped stack ['e', 'd', 'c', 'b', 'a'] was OK!\n"
     ]
    }
   ],
   "source": [
    "import unittest\n",
    "import queue\n",
    "letters = ['a', 'b', 'c', 'd', 'e']\n",
    "\n",
    "# We use Deque (Double-ended queue) implementation\n",
    "from collections import deque\n",
    "\n",
    "\n",
    "# Implementation here\n",
    "def create_stack(a):\n",
    "    stack = deque()  # Create an empty deque object for stacking\n",
    "\n",
    "    # Iterating through the input list and stacking the elements.\n",
    "    for item in a:\n",
    "        stack.append(item) # Add the element to the end.\n",
    "        print(f\"Stack now: {list(stack)}, Size: {len(stack)}\")  # Printing current stack and its size\n",
    "    return stack\n",
    "\n",
    "# Popping Elements - Removing\n",
    "def pop_stack(a):\n",
    "    popped_elements = []  # List to store removed elements\n",
    "\n",
    "    # Delete elements from the stack until it's empty\n",
    "    while a:\n",
    "        popped_item = a.pop()  # Pop removes and returns an element from the end\n",
    "        popped_elements.append(popped_item)  # Adding the removed item to the list\n",
    "        print(f\"Popped: {popped_item}, Stack now: {list(a)}\")  # Printing the premoved item and current stack\n",
    "    return popped_elements\n",
    "\n",
    "\n",
    "\n",
    "# Test Program\n",
    "res = create_stack(letters)\n",
    "\n",
    "assert res[len(res) - 1] == 'e', f\"Top {res[len(res) - 1]} was wrong\"\n",
    "print(f\"Stack {res} was OK!\")\n",
    "\n",
    "# Pop all elements from the stack\n",
    "new_arr = pop_stack(res)\n",
    "\n",
    "unittest.TestCase().assertListEqual(new_arr, sorted(letters, reverse=True))\n",
    "print(f\"Popped stack {new_arr} was OK!\")"
   ]
  },
  {
   "cell_type": "markdown",
   "id": "b4a62021",
   "metadata": {},
   "source": [
    "## Assignment 4.4 (1 p)\n",
    "\n",
    "In Python, the `queue` module also provides the `LifoQueue` class data structure,\n",
    "which you should use in this assignment.\n",
    "\n",
    "Implement a simple *Console user interface (UI)* with the simple _text-based menu_ including all options listed below.\n",
    "* User can choose any option with number (`1-4`).\n",
    "* When a user selects any of the options `1-3`,\n",
    "  the corresponding operation will be performed and then a UI menu should be printed again.\n",
    "\n",
    "The **user interface menu** contains the following options:\n",
    "\n",
    "1. Insert a new element into the stack.\n",
    "2. Remove an element from the stack.\n",
    "3. Show stack content and size.\n",
    "4. End program.\n",
    "\n",
    "You should implement operations in `ask_stack_from_user()` function,\n",
    "where you ask input choices (`1-4`) from the user and use the next value from the `letters` for selected operation.\n",
    "\n",
    "User interface menu operations can be:\n",
    "```\n",
    "\t1. Insert new element\n",
    "\t2. Remove element\n",
    "\t3. Show stack content\n",
    "\t4. End program\n",
    "Select 1 - 4.>\n",
    "```\n",
    "\n",
    "You must complete the manual test in **exactly** the following order in order to obtain the required result in the assignment:\n",
    "```\n",
    "* Insert a new element\n",
    "* Insert a new element\n",
    "* Remove element\n",
    "* Insert a new element\n",
    "* Insert a new element\n",
    "* Remove element\n",
    "* Insert a new element\n",
    "* Insert a new element\n",
    "* Remove element\n",
    "* Show stack content\n",
    "* End program\n",
    "```\n",
    "\n",
    "The example execution of the program is described in detail below:\n",
    "```\n",
    "\t1. Insert new element\n",
    "\t2. Remove element\n",
    "\t3. Show stack content\n",
    "\t4. End program\n",
    "Added 'a' item.\n",
    "Added 'b' item.\n",
    "Removed 'b' item.\n",
    "Added 'd' item.\n",
    "Added 'e' item.\n",
    "Removed 'e' item.\n",
    "Added 'g' item.\n",
    "Added 'h' item.\n",
    "Removed 'h' item.\n",
    "Stack Size: 3, with elements ['a', 'd', 'g']\n",
    "Thank You!\n",
    "Menu is now returned\n",
    "```\n",
    "\n",
    "The example execution of the program when running this program in the console of an operating system:\n",
    "```\n",
    "\t1. Insert new element\n",
    "\t2. Remove element\n",
    "\t3. Show stack content\n",
    "\t4. End program\n",
    "\n",
    "Select 1 - 4.> 1\n",
    "Added 'a' item.\n",
    "Select 1 - 4.> 1\n",
    "Added 'b' item.\n",
    "Select 1 - 4.> 2\n",
    "Removed 'b' item.\n",
    "Select 1 - 4.> 1\n",
    "Added 'd' item.\n",
    "Select 1 - 4.> 1\n",
    "Added 'e' item.\n",
    "Select 1 - 4.> 2\n",
    "Removed 'e' item.\n",
    "Select 1 - 4.> 1\n",
    "Added 'g' item.\n",
    "Select 1 - 4.> 1\n",
    "Added 'h' item.\n",
    "Select 1 - 4.> 2\n",
    "Removed 'h' item.\n",
    "Select 1 - 4.> 3\n",
    "Stack Size: 3, with elements ['a', 'd', 'g']\n",
    "Select 1 - 4.> 4\n",
    "```"
   ]
  },
  {
   "cell_type": "code",
   "execution_count": 4,
   "id": "ce4dcb0c",
   "metadata": {
    "ExecuteTime": {
     "end_time": "2024-01-05T13:59:55.292445100Z",
     "start_time": "2024-01-05T13:59:55.244578100Z"
    }
   },
   "outputs": [
    {
     "name": "stdout",
     "output_type": "stream",
     "text": [
      "Added 'a' item.\n",
      "Added 'b' item.\n",
      "Removed 'b' item.\n",
      "Added 'd' item.\n",
      "Added 'e' item.\n",
      "Removed 'e' item.\n",
      "Added 'g' item.\n",
      "Added 'h' item.\n",
      "Removed 'h' item.\n",
      "Stack Size: 3, with elements ['a', 'd', 'g']\n",
      "Thank You!\n",
      "answer ['a', 'd', 'g'] was OK!\n"
     ]
    }
   ],
   "source": [
    "import unittest\n",
    "from queue import LifoQueue\n",
    "\n",
    "letters = ['a', 'b', 'c', 'd', 'e', 'f', 'g', 'h']\n",
    "menu = ['1. Insert new element', '2. Remove element', '3. Show stack content', '4. End program']\n",
    "\n",
    "\n",
    "def ask_stack_from_user():\n",
    "    stack = LifoQueue(maxsize=8)\n",
    "    letter_index = 0  # To keep track of which letter to insert next\n",
    "\n",
    "    # Simulating user choices based on the assignment's required manual test order\n",
    "    user_choices = [1, 1, 2, 1, 1, 2, 1, 1, 2, 3, 4]\n",
    "\n",
    "    for choice in user_choices:\n",
    "        if choice == 1:  # Inserting a new element\n",
    "            if not stack.full() and letter_index < len(letters):\n",
    "                stack.put(letters[letter_index])\n",
    "                print(f\"Added '{letters[letter_index]}' item.\")\n",
    "                letter_index += 1\n",
    "            else:\n",
    "                print(\"Stack is full or no more letters to add.\")\n",
    "\n",
    "        elif choice == 2:  # Remove element\n",
    "            if not stack.empty():\n",
    "                removed_item = stack.get()\n",
    "                print(f\"Removed '{removed_item}' item.\")\n",
    "                # Skip the next letter in sequence\n",
    "                letter_index += 1\n",
    "            else:\n",
    "                print(\"Stack is empty.\")\n",
    "\n",
    "        elif choice == 3:  # Show the stack content\n",
    "            print(f\"Stack Size: {stack.qsize()}, with elements {list(stack.queue)}\")\n",
    "\n",
    "        elif choice == 4:  # End the program\n",
    "            print(\"Thank You!\")\n",
    "            break\n",
    "\n",
    "    return stack\n",
    "\n",
    "\n",
    "# Test Program\n",
    "res = ask_stack_from_user()\n",
    "\n",
    "result_arr = [letters[0], letters[3], letters[6]]\n",
    "assert res.qsize() == 3, f\"Length '{res.qsize()}' should be 3\"\n",
    "unittest.TestCase().assertListEqual(res.queue, result_arr)\n",
    "\n",
    "print(f\"answer {res.queue} was OK!\")"
   ]
  }
 ],
 "metadata": {
  "jupytext": {
   "cell_metadata_filter": "-all",
   "main_language": "python",
   "notebook_metadata_filter": "-all"
  },
  "kernelspec": {
   "display_name": "Python 3 (ipykernel)",
   "language": "python",
   "name": "python3"
  },
  "language_info": {
   "codemirror_mode": {
    "name": "ipython",
    "version": 3
   },
   "file_extension": ".py",
   "mimetype": "text/x-python",
   "name": "python",
   "nbconvert_exporter": "python",
   "pygments_lexer": "ipython3",
   "version": "3.11.5"
  }
 },
 "nbformat": 4,
 "nbformat_minor": 5
}
