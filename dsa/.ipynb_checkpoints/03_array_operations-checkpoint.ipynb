{
 "cells": [
  {
   "cell_type": "markdown",
   "id": "94c3f315",
   "metadata": {},
   "source": [
    "# Assignment 3\n",
    "\n",
    "These assignments are related to different **array operations** like _comparison_ and _sorting_.\n",
    "* Read the related course material before doing the assignments from the [Array sorting](https://ttc1050.pages.labranet.jamk.fi/ds_alg_material/materials/03_array_sorting/).\n",
    "\n",
    "General notes of assignments:\n",
    "* NOTE! In general, after the implementation of the function, all assignments have a test program for the function.\n",
    "* NOTE! Add your code in the assignments only after the TODO lines."
   ]
  },
  {
   "cell_type": "markdown",
   "id": "68f3ca08",
   "metadata": {},
   "source": [
    "## Assignment 3.1 (1 p)\n",
    "\n",
    "Create an algorithm, that compares the content of two arrays and\n",
    "returns all indexes where elements are different in these arrays.\n",
    "\n",
    "You should use the following string format (see also `correct_answer_03_01`):\n",
    "\n",
    "  ``index i: first[i] != second[i]``\n",
    "\n",
    "Put all the differences you find into a list variable `comp_result` and compare it to the correct answer `correct_answer_03_01`.\n",
    "\n",
    "Note! The test program has already been implemented, so please don't edit it."
   ]
  },
  {
   "cell_type": "code",
   "execution_count": 5,
   "id": "02c1db8c",
   "metadata": {
    "ExecuteTime": {
     "end_time": "2024-01-05T13:47:12.331273700Z",
     "start_time": "2024-01-05T13:47:10.392431700Z"
    },
    "lines_to_next_cell": 2
   },
   "outputs": [
    {
     "name": "stdout",
     "output_type": "stream",
     "text": [
      "answer ['index 0: a != e', 'index 3: d != g', 'index 4: e != a', 'index 6: g != d'] was OK!\n"
     ]
    }
   ],
   "source": [
    "correct_answer_03_01 = ['index 0: a != e', 'index 3: d != g', 'index 4: e != a', 'index 6: g != d']\n",
    "\n",
    "first = ['a', 'b', 'c', 'd', 'e', 'f', 'g', 'h']\n",
    "second = ['e', 'b', 'c', 'g', 'a', 'f', 'd', 'h']\n",
    "\n",
    "def compare(a, b):\n",
    "    differencies = []  # will include all indexes where elements are different.\n",
    "    # TODO: Implement comparison between the content of two arrays in each index.\n",
    "    # TODO: Return all indexes where elements are different in these arrays using given string format.\n",
    "    for i in range(len(a)):\n",
    "        if a[i] != b[i]:\n",
    "            differencies.append(f\"index {i}: {a[i]} != {b[i]}\")\n",
    "    return differencies\n",
    "\n",
    "# Test\n",
    "comp_result = compare(first, second)\n",
    "\n",
    "assert len(comp_result) == 4, \"Error in length\"\n",
    "assert comp_result == correct_answer_03_01\n",
    "print(f\"answer {comp_result} was OK!\")"
   ]
  },
  {
   "cell_type": "markdown",
   "id": "e073947c",
   "metadata": {},
   "source": [
    "## Assignment 3.2 (1 p)\n",
    "\n",
    "Create own implementation of bubble sort algorithm.\n",
    "\n",
    "The `letters` list is defined at the beginning of the assignment contains letters. Please don't modify it.\n",
    "\n",
    "Sort `letters` list using `bubble_sort()` function, the algorithm of which is given as ready-made pseudocode in the assignment's comments.\n",
    "* Note! To clarify the Python implementation difference from the pseudocode, it's important not to sort the original list provided as an argument but rather create a new list within the `bubble_sort()` function.\n",
    "\n",
    "Note! The test program has already been implemented, so please don't edit it."
   ]
  },
  {
   "cell_type": "code",
   "execution_count": 2,
   "id": "c6ab48e2",
   "metadata": {
    "ExecuteTime": {
     "end_time": "2024-01-05T13:59:22.053617900Z",
     "start_time": "2024-01-05T13:59:21.980041500Z"
    }
   },
   "outputs": [
    {
     "name": "stdout",
     "output_type": "stream",
     "text": [
      "['i', 'j', 'b', 'h', 'l', 'a', 'k', 'c', 'g', 'f', 'e', 'd']\n",
      "answer ['a', 'b', 'c', 'd', 'e', 'f', 'g', 'h', 'i', 'j', 'k', 'l'] was OK!\n"
     ]
    }
   ],
   "source": [
    "correct_answer_03_02 = ['a', 'b', 'c', 'd', 'e', 'f', 'g', 'h', 'i', 'j', 'k', 'l']\n",
    "\n",
    "letters = ['i', 'j', 'b','h','l','a','k','c','g','f','e','d']\n",
    "\n",
    "def bubble_sort (a):\n",
    "    sorted_a = a[:]  # Copying the list to avoid modifying the original\n",
    "    n = len(sorted_a)\n",
    "    swapped = True\n",
    "    while swapped:\n",
    "        swapped = False\n",
    "        for i in range(1, n):\n",
    "            if sorted_a[i - 1] > sorted_a[i]:\n",
    "                sorted_a[i - 1], sorted_a[i] = sorted_a[i], sorted_a[i - 1]  # Swapping\n",
    "                swapped = True\n",
    "    return sorted_a\n",
    "\n",
    "\n",
    "\n",
    "# Test\n",
    "sorted_letters = bubble_sort(letters)\n",
    "print(letters)\n",
    "assert letters != sorted_letters\n",
    "assert sorted_letters == correct_answer_03_02\n",
    "print(f\"answer {sorted_letters} was OK!\")\n",
    "\n"
   ]
  },
  {
   "cell_type": "markdown",
   "id": "c29fbfcc",
   "metadata": {},
   "source": [
    "## Assignment 3.3 (1 p)\n",
    "\n",
    "Create an algorithm that performs the following operations in order:\n",
    "1. Prompt the user for the array size.\n",
    "2. Accept user input for values (as `str`) until the array is filled, and populate the array with non-empty elements.\n",
    "3. Sort the array in ascending order using the `bubble_sort()` function developed in **assignment 3.2**.\n",
    "\n",
    "Note! The test program has already been implemented, so please don't edit it."
   ]
  },
  {
   "cell_type": "code",
   "execution_count": 3,
   "id": "76ffb111",
   "metadata": {
    "ExecuteTime": {
     "end_time": "2024-01-05T13:59:27.212017600Z",
     "start_time": "2024-01-05T13:59:27.124834800Z"
    }
   },
   "outputs": [
    {
     "name": "stdout",
     "output_type": "stream",
     "text": [
      "Enter the array size: 5\n",
      "Enter value 1 of 5: k\n",
      "Enter value 2 of 5: j\n",
      "Enter value 3 of 5: h\n",
      "Enter value 4 of 5: g\n",
      "Enter value 5 of 5: f\n",
      "answer ['f', 'g', 'h', 'j', 'k'] was OK!\n"
     ]
    }
   ],
   "source": [
    "import unittest\n",
    "\n",
    "def ask_array_from_user():\n",
    "    array_size = int(input(\"Enter the array size: \"))\n",
    "    user_array = []\n",
    "    for i in range(array_size):\n",
    "        value = input(f\"Enter value {i+1} of {array_size}: \")\n",
    "        if value:  # Ensure the value is not empty\n",
    "            user_array.append(value)\n",
    "    return user_array\n",
    "\n",
    "\n",
    "# test\n",
    "list_from_user = ask_array_from_user()\n",
    "# TODO: Sort the array in ascending order using the bubble_sort function developed in assignment 3.2.\n",
    "list_sorted = bubble_sort(list_from_user)\n",
    "sorted_arr = sorted(list_from_user)\n",
    "\n",
    "unittest.TestCase().assertListEqual(list_sorted, sorted_arr)\n",
    "print(f\"answer {list_sorted} was OK!\")\n",
    "    "
   ]
  },
  {
   "cell_type": "markdown",
   "id": "32ae9959",
   "metadata": {},
   "source": [
    "\n",
    "## Assignment 3.4 (1 p)\n",
    "\n",
    "Compare sorting algorithms by taking their execution times.\n",
    "\n",
    "Use the `random` module in Python to generate a list of 10 000 random numbers by using the `random.randint()` function.\n",
    "Compare how long it takes to execute the algorithm with Python's standard `sort()` function or with your own `bubble_sort()` function.\n",
    "Use the `timeit` module to measure the execution time of each sorting method.\n",
    "\n",
    "Do the following task in the test program.\n",
    "1. Generate a list of 10,000 random numbers\n",
    "2. Take the time it takes to execute the Python standard function `sorted()`\n",
    "3. Take the time it takes to execute the own implementation of `bubble_sort()` function.\n",
    "\n",
    "Please don't edit `print()` functions which shows the end times."
   ]
  },
  {
   "cell_type": "code",
   "execution_count": 8,
   "id": "f43094ab",
   "metadata": {
    "ExecuteTime": {
     "end_time": "2024-01-05T13:59:35.745405Z",
     "start_time": "2024-01-05T13:59:35.738713400Z"
    }
   },
   "outputs": [
    {
     "name": "stdout",
     "output_type": "stream",
     "text": [
      "Generated random numbers.\n",
      "sorted(): 0.001250 seconds\n",
      "bubble_sort(): 8.072327 seconds\n",
      "sorted(): 0.001250 seconds\n",
      "bubble_sort(): 8.072327 seconds\n",
      "sorted() vs. bubble_sort(): 0.015485 %\n"
     ]
    }
   ],
   "source": [
    "import random\n",
    "import timeit\n",
    "\n",
    "def bubble_sort(a):\n",
    "    n = len(a)\n",
    "    for i in range(n):\n",
    "        for j in range(0, n-i-1):\n",
    "            if a[j] > a[j+1]:\n",
    "                a[j], a[j+1] = a[j+1], a[j]\n",
    "    return a\n",
    "\n",
    "\n",
    "test_numbers = [random.randint(0, 10000) for _ in range(10000)]\n",
    "print(\"Generated random numbers.\")\n",
    "\n",
    "\n",
    "time_sorted = timeit.timeit('sorted(test_numbers)', globals=globals(), number=1)\n",
    "print(f\"sorted(): {time_sorted:.6f} seconds\")\n",
    "\n",
    "time_bubble_sort = timeit.timeit('bubble_sort(test_numbers[:])', globals=globals(), number=1)\n",
    "print(f\"bubble_sort(): {time_bubble_sort:.6f} seconds\")\n",
    "\n",
    "# don't edit it these.\n",
    "print(f\"sorted(): {time_sorted:.6f} seconds\")\n",
    "print(f\"bubble_sort(): {time_bubble_sort:.6f} seconds\")\n",
    "print(f\"sorted() vs. bubble_sort(): {(time_sorted/time_bubble_sort)*100:.6f} %\")"
   ]
  },
  {
   "cell_type": "code",
   "execution_count": null,
   "id": "eb024846",
   "metadata": {},
   "outputs": [],
   "source": []
  },
  {
   "cell_type": "code",
   "execution_count": null,
   "id": "9371f59b",
   "metadata": {},
   "outputs": [],
   "source": []
  },
  {
   "cell_type": "code",
   "execution_count": null,
   "id": "beeb58d8",
   "metadata": {},
   "outputs": [],
   "source": []
  }
 ],
 "metadata": {
  "jupytext": {
   "cell_metadata_filter": "-all",
   "main_language": "python",
   "notebook_metadata_filter": "-all"
  },
  "kernelspec": {
   "display_name": "Python 3 (ipykernel)",
   "language": "python",
   "name": "python3"
  },
  "language_info": {
   "codemirror_mode": {
    "name": "ipython",
    "version": 3
   },
   "file_extension": ".py",
   "mimetype": "text/x-python",
   "name": "python",
   "nbconvert_exporter": "python",
   "pygments_lexer": "ipython3",
   "version": "3.9.13"
  }
 },
 "nbformat": 4,
 "nbformat_minor": 5
}
