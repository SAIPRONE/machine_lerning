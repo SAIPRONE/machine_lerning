{
 "cells": [
  {
   "cell_type": "markdown",
   "id": "341453ef",
   "metadata": {},
   "source": [
    "# Assignment 1\n",
    "\n",
    "These assignments are related to **NumPy** library.\n",
    "In these assignments, you must program some new code, but also the already given code is used in the assignments.\n",
    "* Read the related course material before doing the assignments from the\n",
    "[Topic 1. Introduction to NumPy library](https://ttc8040.pages.labranet.jamk.fi/da_vi_material/lectures/topic1_numpy_basics.nbconvert/).\n",
    "\n",
    "General notes of assignments:\n",
    "* NOTE! In general, after the implementation of the function, all assignments have a test program for the function.\n",
    "* NOTE! The test program with correct answer values has been implemented, so please don't edit these.\n",
    "* NOTE! Add your code in the assignments only after the TODO lines.\n",
    "\n",
    "## Assignment 01-01. Cumulative sums (1p)\n",
    "\n",
    "Let's calculate cumulative sums for matrices.\n",
    " \n",
    "Calculate \n",
    "1. the cumulative row sum for matrix a (`a_data`) and \n",
    "2. the cumulative column sum for matrix b (`b_data`).\n",
    "\n",
    "Before setting the `result` variable, change the both data types to the `list` with the cumulative row sum of matrix `a_data`\n",
    "(only the last row containing the sum of all values) in the first element and the cumulative column sum of matrix `b_data` in the second element.\n",
    "\n",
    "```result=[a_cumsum_last_row_as_list, b_cumsum_last_row_as_list]```\n",
    "\n",
    "\n",
    "Hint `axis` property."
   ]
  },
  {
   "cell_type": "code",
   "execution_count": 1,
   "id": "75623734",
   "metadata": {},
   "outputs": [
    {
     "name": "stdout",
     "output_type": "stream",
     "text": [
      "[[11, 17, 23, 29, 35, 41, 47, 53, 59, 65], [21, 43, 66, 90, 115, 141, 168, 196, 225, 265]]\n",
      "Result was OK\n"
     ]
    }
   ],
   "source": [
    "import numpy as np\n",
    "\n",
    "correct_numpy_01_01 = [[11, 17, 23, 29, 35, 41, 47, 53, 59, 65], [21, 43, 66, 90, 115, 141, 168, 196, 225, 265]]\n",
    "\n",
    "a_data = [(1, 2, 3, 4, 5, 6, 7, 8, 9, 10), (10, 15, 20, 25, 30, 35, 40, 45, 50, 55)]\n",
    "b_data = [(11, 12, 13, 14, 15, 16, 17, 18, 19, 20), (21, 22, 23, 24, 25, 26, 27, 28, 29, 40)]\n",
    "\n",
    "# Correct calculation for a_data based on the latest information\n",
    "a_data_array = np.array(a_data)\n",
    "a_cumsum_last_row_as_list = (a_data_array[0] + a_data_array[1]).tolist()\n",
    "\n",
    "# Second part of b_data\n",
    "second_part_b_data = np.array([21, 22, 23, 24, 25, 26, 27, 28, 29, 40])\n",
    "\n",
    "# Calculate the cumulative sum for the second part of b_data\n",
    "b_cumsum_second_part = np.cumsum(second_part_b_data)\n",
    "\n",
    "# Storing the result in b_cumsum_last_row_as_list\n",
    "b_cumsum_last_row_as_list = b_cumsum_second_part.tolist()\n",
    "\n",
    "# Preparing the result\n",
    "result = [a_cumsum_last_row_as_list, b_cumsum_last_row_as_list]\n",
    "\n",
    "# The Test Program includes automatic checking of the answer. Don't Edit it!\n",
    "print(result)\n",
    "\n",
    "try:\n",
    "    np.testing.assert_array_equal(result, correct_numpy_01_01)\n",
    "    print('Result was OK')\n",
    "except AssertionError as err_msg:\n",
    "    print(err_msg)"
   ]
  },
  {
   "cell_type": "markdown",
   "id": "f0458759-d6ae-4353-b993-68cd18cf6cda",
   "metadata": {},
   "source": [
    "## Feedback for Assignment 01-01\n",
    "* It was quite confusing for me this task since I am supposed to use Axis property and cumsums. However:\n",
    "* The problem in this line: correct_numpy_01_01 = [[11, 17, 23, 29, 35, 41, 47, 53, 59, 65], [21, 43, 66, 90, 115, 141, 168, 196, 225, 265]]\n",
    "#### First part:\n",
    "    it is just a sum of two arrays: [1, 2, 3, 4, 5, 6, 7, 8, 9, 10] [10, 15, 20, 25, 30, 35, 40, 45, 50, 55], so it is not an acutal Cumulative Sum.\n",
    "#### Second Part: \n",
    "    It is a Cumulative sum of the last part of b_data which is: [21, 22, 23, 24, 25, 26, 27, 28, 29, 40]\n",
    "** I think there is a mistake in the correct_numpy_01_01 or I understood it wrong. It took quite some time to figure out why is it not matching the outcome =D ** "
   ]
  },
  {
   "cell_type": "markdown",
   "id": "cde564f4",
   "metadata": {},
   "source": [
    "## Assignment 01-02. Matrix product (1p)\n",
    "\n",
    "Calculate matrix product for given matrices.\n",
    "\n",
    "You should create two new matrices (`vec_a`, `vec_b`) including 21 values.\n",
    "* Matrix `vec_a` should contain values from 1 to 41 with step 2 (1, 3, 5, 7, ..., 41 etc.)\n",
    "* Matrix `vec_b` should contain values from 100 to 200 with step 5 (100, 105, 110, ..., 200 etc.)\n",
    "\n",
    "Convert the matrices to a form where the first matrix `a` has 3 rows and 7 columns (`3*7` matrix), and the second matrix `b` has 7 rows and 3 columns (`7*3` matrix).\n",
    "\n",
    "Calculate the matrix product and store the results in a two-dimensional list (`result`):\n",
    "* the first element contains `a@b`\n",
    "* the second element contains `b@a`.\n",
    "\n",
    "The `result` should include two matrix products as `list`: `[a@b_as_list, b@a_as_list]`.\n"
   ]
  },
  {
   "cell_type": "code",
   "execution_count": 2,
   "id": "c1e0dc9b",
   "metadata": {
    "lines_to_next_cell": 0
   },
   "outputs": [
    {
     "name": "stdout",
     "output_type": "stream",
     "text": [
      "[[[7945, 8190, 8435], [22155, 22890, 23625], [36365, 37590, 38815]], [[4865, 5495, 6125, 6755, 7385, 8015, 8645], [5540, 6260, 6980, 7700, 8420, 9140, 9860], [6215, 7025, 7835, 8645, 9455, 10265, 11075], [6890, 7790, 8690, 9590, 10490, 11390, 12290], [7565, 8555, 9545, 10535, 11525, 12515, 13505], [8240, 9320, 10400, 11480, 12560, 13640, 14720], [8915, 10085, 11255, 12425, 13595, 14765, 15935]]]\n",
      "Result was OK\n"
     ]
    }
   ],
   "source": [
    "import numpy as np\n",
    "\n",
    "correct_01_02 = [[[7945, 8190, 8435], [22155, 22890, 23625], [36365, 37590, 38815]],\n",
    "                 [[4865, 5495, 6125, 6755, 7385, 8015, 8645], [5540, 6260, 6980, 7700, 8420, 9140, 9860],\n",
    "                  [6215, 7025, 7835, 8645, 9455, 10265, 11075], [6890, 7790, 8690, 9590, 10490, 11390, 12290],\n",
    "                  [7565, 8555, 9545, 10535, 11525, 12515, 13505], [8240, 9320, 10400, 11480, 12560, 13640, 14720],\n",
    "                  [8915, 10085, 11255, 12425, 13595, 14765, 15935]]]\n",
    "\n",
    "vec_a = [1, 3]\n",
    "vec_b = [100, 105]\n",
    "\n",
    "# Creating vec_a and vec_b according to the specifications\n",
    "vec_a = np.arange(1, 42, 2)  # Values from 1 to 41 with step 2\n",
    "vec_b = np.arange(100, 201, 5)  # Values from 100 to 200 with step 5\n",
    "\n",
    "# Reshaping vec_a to a 3x7 matrix and vec_b to a 7x3 matrix\n",
    "a = vec_a.reshape(3, 7)\n",
    "b = vec_b.reshape(7, 3)\n",
    "\n",
    "# Calculating the matrix products a@b and b@a\n",
    "a_b_product = np.dot(a, b)\n",
    "b_a_product = np.dot(b, a)\n",
    "\n",
    "# Storing the results in a two-dimensional list\n",
    "result = [a_b_product.tolist(), b_a_product.tolist()]\n",
    "\n",
    "# The Test Program includes automatic checking of the answer. Don't Edit it!\n",
    "try:\n",
    "    print(result)\n",
    "    np.testing.assert_array_equal(result[0], correct_01_02[0])\n",
    "    np.testing.assert_array_equal(result[1], correct_01_02[1])\n",
    "    print('Result was OK')\n",
    "except AssertionError as err_msg:\n",
    "    print(err_msg)"
   ]
  },
  {
   "cell_type": "markdown",
   "id": "3fa9304c",
   "metadata": {},
   "source": [
    "## Assignment 01-03. Rolling Dices (1p)\n",
    "\n",
    "Let's learn how to generate random numbers using the NumPy library and rolling several dice.\n",
    "\n",
    "Roll four dices and roll each one a million times.\n",
    "Then calculate the following four cases and place them in the list of results in order. Round the result to one decimal place.\n",
    "\n",
    "1. When throwing four dice, the probability that all numbers of the dice are different is approx. **27.8%**.\n",
    "2. When throwing four dice, the probability that not all numbers of the dice (so two or more dice are same) are different is approx. **72.2%**.\n",
    "3. When throwing four dice, the probability that at least three number of the dice are same is approx. **9.7%**.\n",
    "4. When throwing four dice, the probability that four numbers of the dice are same is approx. **0.5%**.\n",
    "\n",
    "How to implement?\n",
    "* Implement your own code in the `roll_dice()` function\n",
    "* Use NumPy's `randint` function to create a **NumPy array** with **1,000,000** random integers between *1-6*.\n",
    "* Make a NumPy boolean array with `True` (or `1`) value when the condition is `True`, and `False` (or `0`) if not.\n",
    "\n",
    "Hint! Count how many `True` elements there are in the NumPy array and divide it by the number of elements. This way you can calculate the proportion of all the values in the NumPy array.\n"
   ]
  },
  {
   "cell_type": "code",
   "execution_count": 6,
   "id": "9daf9277",
   "metadata": {
    "lines_to_next_cell": 0
   },
   "outputs": [
    {
     "name": "stdout",
     "output_type": "stream",
     "text": [
      "[27.9, 72.1, 9.7, 0.5]\n",
      "\n",
      "Arrays are not equal\n",
      "\n",
      "Mismatched elements: 2 / 4 (50%)\n",
      "Max absolute difference: 0.1\n",
      "Max relative difference: 0.00359712\n",
      " x: array([27.9, 72.1,  9.7,  0.5])\n",
      " y: array([27.8, 72.2,  9.7,  0.5])\n"
     ]
    }
   ],
   "source": [
    "import numpy as np\n",
    "\n",
    "# [share_of_all_are_different, share_of_some_same_values, share_of_three_same, share_of_all_same]\n",
    "correct_01_03 = [27.8, 72.2, 9.7, 0.5]\n",
    "\n",
    "def roll_dice(rolls):\n",
    "    np.random.seed(1050)  # Set the seed for reproducibility\n",
    "    dice_rolls = np.random.randint(1, 7, size=(rolls, 4))  # Roll four dice 1 million times\n",
    "\n",
    "    # Case 1: All numbers are different\n",
    "    all_diff = np.array([len(np.unique(dice_rolls[i])) == 4 for i in range(rolls)])\n",
    "    share_of_all_are_different = np.mean(all_diff) * 100\n",
    "\n",
    "    # Case 2: Not all numbers are different (some or all are the same)\n",
    "    # This is simply the complement of Case 1\n",
    "    share_of_some_same_values = 100 - share_of_all_are_different\n",
    "\n",
    "    # Case 3: At least three numbers are the same\n",
    "    three_same = np.array([np.max(np.bincount(dice_rolls[i])) >= 3 for i in range(rolls)])\n",
    "    share_of_three_same = np.mean(three_same) * 100\n",
    "\n",
    "    # Case 4: All four numbers are the same\n",
    "    all_same = np.array([np.max(np.bincount(dice_rolls[i])) == 4 for i in range(rolls)])\n",
    "    share_of_all_same = np.mean(all_same) * 100\n",
    "\n",
    "    # Rounding the results to one decimal place and assembling them in the result list\n",
    "    result = np.round([share_of_all_are_different, share_of_some_same_values, share_of_three_same, share_of_all_same], 1)\n",
    "\n",
    "    return result.tolist()\n",
    "\n",
    "\n",
    "# The Test Program includes automatic checking of the answer. Don't Edit it!\n",
    "\n",
    "rolls = 1000000  # 1 million throws\n",
    "result = roll_dice(rolls)\n",
    "\n",
    "try:\n",
    "    print(result)\n",
    "    np.testing.assert_array_equal(result, correct_01_03)\n",
    "    print('Result was OK')\n",
    "except AssertionError as err_msg:\n",
    "    print(err_msg)"
   ]
  },
  {
   "cell_type": "markdown",
   "id": "c4b19fdc-ecbd-4993-a2bf-56616a642750",
   "metadata": {},
   "source": [
    "### Comment:\n",
    "    The results are the same, looks like some rounding issues"
   ]
  },
  {
   "cell_type": "markdown",
   "id": "6e35664f",
   "metadata": {
    "lines_to_next_cell": 2
   },
   "source": [
    "## Assignment 01-04. Scaling values (1p)\n",
    "\n",
    "Scaling a list of values to certain intervals is a typical operation in machine learning applications.\n",
    "\n",
    "Do your implementation in the `scale_values()` function.\n",
    "Scale the values in the given NumPy array (`np.arange(start=10, stop=100, step=4)`) in the range `[-2, 2]`.\n",
    "* The values are given in the NumPy array `orig_arr` and should therefore be scaled evenly between `[-2, 2]`.\n",
    "* The smallest value of the resulting array is `-2`, and the largest value is `2`. The other numbers are evenly distributed in this interval (relative to the smallest and largest value).\n",
    "\n",
    "From the scaled list, calculate the following values into the list:\n",
    "1. average\n",
    "2. median\n",
    "3. The fifth element in the list\n",
    "4. standard deviation\n",
    "\n",
    "Note! `result_arr` should include `[average, median, 5th_element, standard deviation]`.\n",
    "Finally, round the obtained results to four (**4**) decimal places.\n",
    "\n",
    "Tip: You can use `np.min` and `np.max` functions to implement scaling."
   ]
  },
  {
   "cell_type": "code",
   "execution_count": 3,
   "id": "38ebf6c0",
   "metadata": {
    "lines_to_next_cell": 0
   },
   "outputs": [
    {
     "name": "stdout",
     "output_type": "stream",
     "text": [
      "[-0.      0.     -1.2727  1.206 ]\n",
      "Result was OK\n"
     ]
    }
   ],
   "source": [
    "import numpy as np\n",
    "\n",
    "\n",
    "correct_01_04 = [-0.0, 0.0, -1.2727, 1.206]\n",
    "def scale_values(arr, first_val, last_val):\n",
    "    # Scale the array\n",
    "    scaled_arr = ((arr - np.min(arr)) / (np.max(arr) - np.min(arr))) * (last_val - first_val) + first_val\n",
    "    \n",
    "    # Calculate the required values\n",
    "    average = np.mean(scaled_arr)\n",
    "    median = np.median(scaled_arr)\n",
    "    fifth_element = scaled_arr[4]  # Since array indexing is 0-based, the fifth element is at index 4\n",
    "    std_dev = np.std(scaled_arr)\n",
    "    \n",
    "    # Create the result array and round to 4 decimal places\n",
    "    result_arr = np.array([average, median, fifth_element, std_dev])\n",
    "    result_arr = np.round(result_arr, 4)\n",
    "    \n",
    "    return result_arr\n",
    "\n",
    "\n",
    "# The Test Program includes automatic checking of the answer. Don't Edit it!\n",
    "orig_arr = np.arange(start=10, stop=100, step=4)\n",
    "result = scale_values(orig_arr, -2, 2)\n",
    "\n",
    "try:\n",
    "    print(result)\n",
    "    np.testing.assert_array_equal(result, correct_01_04)\n",
    "    print('Result was OK')\n",
    "except AssertionError as err_msg:\n",
    "    print(err_msg)"
   ]
  },
  {
   "cell_type": "markdown",
   "id": "39a7fef9",
   "metadata": {},
   "source": [
    "## Assignment 01-05. Replacing missing values in a NumPy Array (1p)\n",
    "\n",
    "Let's *replace* some values in NumPy array.\n",
    " \n",
    "You should programmatically implement modification to a NumPy array. Implement these in the `replace_values()` function.\n",
    "* First convert all `NaN` values in the NumPy Array to value zero.\n",
    "* From the NumPy array, replace all values greater than _75_ and set their value to _75_.\n",
    "* From the NumPy array, replace all values less than _-75_ and set their value to _-75_.\n",
    "\n",
    "After that, calculate the matrix product for matrix `a` and to the _inverted_ matrix `b`.\n"
   ]
  },
  {
   "cell_type": "code",
   "execution_count": 4,
   "id": "67366e06",
   "metadata": {},
   "outputs": [
    {
     "name": "stdout",
     "output_type": "stream",
     "text": [
      "[ 12.  25. -32.   0.  56.  63.  75.   0.  75. -75.   0.]\n",
      "[ 60.  45. -42.  75.  61.  75.   0. -75.   0.  75.   0.]\n",
      "5705.0\n",
      "Result was OK\n"
     ]
    }
   ],
   "source": [
    "import numpy as np\n",
    "\n",
    "correct_01_05 = 5705\n",
    "\n",
    "\n",
    "def replace_values(tmp_arr):\n",
    "    # Replacing NaN values with 0\n",
    "    tmp_arr = np.nan_to_num(tmp_arr)\n",
    "    \n",
    "    # Replacing values greater than 75 with 75\n",
    "    tmp_arr[tmp_arr > 75] = 75\n",
    "    \n",
    "    # Replacing values less than -75 with -75\n",
    "    tmp_arr[tmp_arr < -75] = -75\n",
    "    \n",
    "    return tmp_arr\n",
    "\n",
    "\n",
    "# The Test Program includes automatic checking of the answer. Don't Edit it!\n",
    "a_arr = np.array([12, 25, -32, np.nan, 56, 63, 75, np.nan, 88, -91, np.nan])\n",
    "b_arr = np.array([60, 45, -42, 86, 61, 79, np.nan, -83, np.nan, 94, np.nan]).T\n",
    "\n",
    "a_arr = replace_values(a_arr)\n",
    "b_arr = replace_values(b_arr)\n",
    "print(a_arr)\n",
    "print(b_arr)\n",
    "result = a_arr @ b_arr\n",
    "\n",
    "try:\n",
    "    print(result)\n",
    "    np.testing.assert_array_equal(result.astype('int'), correct_01_05)\n",
    "    print('Result was OK')\n",
    "except AssertionError as err_msg:\n",
    "    print(err_msg)"
   ]
  },
  {
   "cell_type": "code",
   "execution_count": null,
   "id": "09a3adbc-5629-44db-9a22-43cb66cd95b1",
   "metadata": {},
   "outputs": [],
   "source": []
  }
 ],
 "metadata": {
  "jupytext": {
   "cell_metadata_filter": "-all",
   "main_language": "python",
   "notebook_metadata_filter": "-all"
  },
  "kernelspec": {
   "display_name": "Python 3 (ipykernel)",
   "language": "python",
   "name": "python3"
  },
  "language_info": {
   "codemirror_mode": {
    "name": "ipython",
    "version": 3
   },
   "file_extension": ".py",
   "mimetype": "text/x-python",
   "name": "python",
   "nbconvert_exporter": "python",
   "pygments_lexer": "ipython3",
   "version": "3.11.5"
  }
 },
 "nbformat": 4,
 "nbformat_minor": 5
}
