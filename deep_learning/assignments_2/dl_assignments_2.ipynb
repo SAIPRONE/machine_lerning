{
 "cells": [
  {
   "cell_type": "markdown",
   "id": "66b37bc9",
   "metadata": {},
   "source": [
    "# Assignment 2-1. Topic: Neural Network by implementing it yourself: 4 points\n",
    "\n",
    "In this assignment, create your **own neural network** using only the Core Python 3.x and *NumPy* library.\n",
    "\n",
    "Coordinate pairs have been defined in the assignment, and they are used to draw points of two colors (red and blue).\n",
    "The ultimate goal is to create a neural network that knows how to place a point in the red or blue areas of the coordinate system.\n",
    "\n",
    "When a new point is drawn on the graph and the coordinates of the point are fed to the neural network,\n",
    "the neural network predicts the color of the point and the probability that it is that color.\n",
    "\n",
    "The meaning of the assignment: to better understand the functioning of the neural network algorithm.\n",
    "\n",
    "The steps of the assignment are:\n",
    "\n",
    "1. Create training data with coordinate points with colors.\n",
    "2. Create a neural network class with the structure:\n",
    "* Input layer with two neurons (x, y) i.e., the coordinate pairs for the (x, y) point.\n",
    "* One hidden layer with six (6) neurons and sigmoid as activation function.\n",
    "* Output layer with one neuron and sigmoid as activation function.\n",
    "* The result of the output layer is therefore a float between [0, 1].\n",
    "3. Create functions to calculate the neural network's prediction for the input data (*forwardpropagation*) and\n",
    "   update the connection weight values with the error (*backpropagation*).\n",
    "4. Feed the training data 1000 times through the neural network.\n",
    "* In each epoch round, feed the training data row by row through the neural network and update the weight values.\n",
    "* During the round, save the errors for each input, and add the average of the round's loss to the list. Draw a graph of how the loss changes during training epochs.\n",
    "5. Predict with a neural network (float value) what color the point will be: `[0.5, 8.7]`. How accurate do you think this prediction is?\n",
    "6. Predict with a neural network (float value) what color the point is: `[15, -15]`. How accurate do you think this prediction is?\n",
    "7. Find out how the change in the `learning_rate` argument of the `backpropagation()` method affects the (try values from `0.01` to `0.001`) result?\n",
    "8. Find out how changing the `n_samples` property of `make_blobs()` affects the result?\n",
    "9. Find out how changing the `cluster_std` property of `make_blobs()` affects the result?\n",
    "\n",
    "Tips:\n",
    "* Draw the structure of this neural network with a drawing program or on paper, where you can see the number of connections in each layer.\n",
    "* Use the existing solution, and add to it only the necessary calculations for each layer of neural network.\n",
    "\n",
    "Once the error (loss) function is defined, the _gradient descent_ method is used to minimize it.\n",
    "In it, the gradient of the error function is calculated in relation to the weighting coefficients, and\n",
    "it moves step by step to the opposite direction with respect to the gradient until an optimum is found.\n",
    "\n",
    "### What do you need to implement in this assignment?\n",
    "\n",
    "* `class NeuralNetwork` - ready-to-use class, i.e., no changes needed\n",
    "* `train_neural_network()` - ready to use, trains the neural network and saves the loss after each round\n",
    "* `create_dots_and_labels()` - requires also own implementation\n",
    " * plot the losses of the neural network\n",
    "*  calculate the neural network prediction for the input `[x, y]` in the given variable."
   ]
  },
  {
   "cell_type": "code",
   "execution_count": 92,
   "id": "e28422c6",
   "metadata": {
    "ExecuteTime": {
     "end_time": "2024-01-19T07:42:21.525988700Z",
     "start_time": "2024-01-19T07:42:20.222803100Z"
    },
    "lines_to_next_cell": 2
   },
   "outputs": [
    {
     "data": {
      "text/plain": [
       "<matplotlib.collections.PathCollection at 0x295c37301f0>"
      ]
     },
     "execution_count": 92,
     "metadata": {},
     "output_type": "execute_result"
    },
    {
     "data": {
      "image/png": "[encoded data removed]",
      "text/plain": [
       "<Figure size 640x480 with 1 Axes>"
      ]
     },
     "metadata": {},
     "output_type": "display_data"
    }
   ],
   "source": [
    "# This assignment uses the make_blobs() function, which can be used to draw the test dataset\n",
    "\n",
    "import matplotlib.pyplot as plt\n",
    "from sklearn.datasets import make_blobs\n",
    "\n",
    "dots, labels = make_blobs(n_samples=50, centers=2, cluster_std=8, center_box=(-20, 20), random_state=151)\n",
    "colors = ['red' if label == 0 else 'blue' for label in labels]\n",
    "plt.scatter(dots[:, 0], dots[:, 1], color=colors)"
   ]
  },
  {
   "cell_type": "code",
   "execution_count": 93,
   "id": "dec4d00b",
   "metadata": {
    "ExecuteTime": {
     "end_time": "2024-01-19T07:42:21.589472400Z",
     "start_time": "2024-01-19T07:42:21.536656200Z"
    }
   },
   "outputs": [],
   "source": [
    "# `NeuralNetwork` is a ready-to-use class as is.\n",
    "import numpy as np\n",
    "class NeuralNetwork:\n",
    "    def __init__(self):\n",
    "        self.weights1 = np.random.rand(2, 6)\n",
    "        self.weights2 = np.random.rand(6, 1)\n",
    "\n",
    "    def __init__(self, input_neurons, hidden_neurons):\n",
    "        self.weights1 = np.random.rand(input_neurons, hidden_neurons)\n",
    "        self.weights2 = np.random.rand(hidden_neurons, 1)\n",
    "\n",
    "    # Loss function\n",
    "    def loss_function(self, true, prediction):\n",
    "        return 0.5 * (true - prediction) ** 2\n",
    "\n",
    "    # Derivative of the loss function\n",
    "    def loss_function_derivative(self, true, prediction):\n",
    "        return true - prediction\n",
    "\n",
    "    # Sigmoid function\n",
    "    def sigmoid(self, x):\n",
    "        return 1 / (1 + np.exp(-x))\n",
    "\n",
    "    # Derivative of the sigmoid\n",
    "    def sigmoid_derivative(self, x):\n",
    "        return x * (1 - x)\n",
    "\n",
    "    # Traversal of the neural network\n",
    "    def forwardpropagation(self, X, y):\n",
    "        self.X = X\n",
    "        self.y = y\n",
    "        self.layer1 = self.sigmoid(np.dot(self.X, self.weights1))\n",
    "        self.output = self.sigmoid(np.dot(self.layer1, self.weights2))\n",
    "\n",
    "        # the loss is calculated, i.e., the distance of the neural network's predictions from the correct values\n",
    "        self.loss = self.loss_function(self.y, self.output)\n",
    "\n",
    "    # Update weight values using the backpropagation method\n",
    "    def backpropagation(self, learning_rate):\n",
    "        output_error = self.loss_function_derivative(self.y, self.output)\n",
    "        output_delta = output_error * self.sigmoid_derivative(self.output)\n",
    "        weights2_adjustment = np.dot(self.layer1.T, output_delta)\n",
    "\n",
    "        layer1_error = np.dot(output_delta, self.weights2.T)\n",
    "        layer1_delta = layer1_error * self.sigmoid_derivative(self.layer1)\n",
    "        weights1_adjustment = np.dot(self.X.T, layer1_delta)\n",
    "\n",
    "        self.weights1 += learning_rate * weights1_adjustment\n",
    "        self.weights2 += learning_rate * weights2_adjustment"
   ]
  },
  {
   "cell_type": "markdown",
   "id": "2d1e4f9e",
   "metadata": {},
   "source": [
    "\n",
    "Implement function `create_dots_and_labels()`, that creates the dots and labels and set the RGB color for the dot based on the labels.\n",
    "\n",
    "You must do the following:\n",
    "* Create a color table where the color is `[label: 0: \"red\" or 1: \"blue\"]`\n",
    "* Find out how `make_blobs()` works.\n",
    "\n",
    "`train_neural_network()`: Trains the neural network and saves the loss after each epoch round\n",
    "\n",
    "see **TODO** items that require you to write your own code."
   ]
  },
  {
   "cell_type": "code",
   "execution_count": 94,
   "id": "7c5f194c",
   "metadata": {
    "ExecuteTime": {
     "end_time": "2024-01-19T07:42:21.589472400Z",
     "start_time": "2024-01-19T07:42:21.558598400Z"
    }
   },
   "outputs": [],
   "source": [
    "# TODO: create_dots_and_labels() function should return list with `[dots, labels, colors]`\n",
    "from sklearn.datasets import make_blobs\n",
    "\n",
    "def create_dots_and_labels():\n",
    "    # TODO: Find out how increasing the cluster_std property of make_blobs() affects the result?\n",
    "    dots, labels = make_blobs(n_samples=50, centers=2, cluster_std=8, center_box=(-20, 20), random_state=151)\n",
    "    colors = []\n",
    "    # TODO: Create a color table where the color is [\"red\" or \"blue\"]\n",
    "    color_table = {0: \"red\", 1: \"blue\"}\n",
    "    # TODO: Create the colors list based on the values of the labels list\n",
    "    colors = [color_table[label] for label in labels]\n",
    "    return [dots, labels, colors]\n",
    "\n",
    "\n",
    "# Training the neural network and save the loss after each epoch round (this has been already implemented)\n",
    "def train_neural_network(ntwrk, train_X, train_y):\n",
    "    losses_arr = []  # save round errors\n",
    "    epochs = 1000\n",
    "    for epoch in range(epochs):\n",
    "        batch_losses = []\n",
    "        # Let's go through each pair of coordinates in loop\n",
    "        for X, y in zip(train_X, train_y):\n",
    "            ntwrk.forwardpropagation(np.array([X]), np.array([y]))\n",
    "            # TODO: Find out how does the learning_rate change affect the (from 0.01 to 0.001) result?\n",
    "            ntwrk.backpropagation(learning_rate=0.01)\n",
    "            batch_losses.append(ntwrk.loss[0])\n",
    "        losses_arr.append(np.average(batch_losses))  # average the error values of one round\n",
    "    return losses_arr"
   ]
  },
  {
   "cell_type": "markdown",
   "id": "1eccd3b6",
   "metadata": {},
   "source": [
    "* Defining the training data and creating the neural network\n",
    "* create_dots_and_labels\n",
    "* Plot the points with *scatter plot*\n",
    "* You should train the neural network and save the loss of the neural network after each round"
   ]
  },
  {
   "cell_type": "code",
   "execution_count": 95,
   "id": "12a8b59f",
   "metadata": {
    "ExecuteTime": {
     "end_time": "2024-01-19T07:42:21.590467700Z",
     "start_time": "2024-01-19T07:42:21.569556500Z"
    }
   },
   "outputs": [],
   "source": [
    "# Training the Neural Network:\n",
    "dots, labels, colors = create_dots_and_labels()\n",
    "\n",
    "# Initilizing the neural network\n",
    "network = NeuralNetwork(input_neurons=2, hidden_neurons=4)\n",
    "\n",
    "# Training\n",
    "losses = train_neural_network(network, dots, labels)"
   ]
  },
  {
   "cell_type": "markdown",
   "id": "47bb3d55",
   "metadata": {},
   "source": [
    "Let's plot the losses of the neural network"
   ]
  },
  {
   "cell_type": "code",
   "execution_count": 96,
   "id": "df5dedd4",
   "metadata": {
    "ExecuteTime": {
     "end_time": "2024-01-19T07:42:21.609422100Z",
     "start_time": "2024-01-19T07:42:21.586480100Z"
    }
   },
   "outputs": [
    {
     "data": {
      "image/png": "[encoded data removed]",
      "text/plain": [
       "<Figure size 640x480 with 1 Axes>"
      ]
     },
     "metadata": {},
     "output_type": "display_data"
    }
   ],
   "source": [
    "# TODO: Plot the losses of the neural network\n",
    "import matplotlib.pyplot as plt\n",
    "plt.plot(losses)\n",
    "plt.title(\"Training Losses (learning_rate=0.01)\")\n",
    "plt.xlabel(\"Epoch\")\n",
    "plt.ylabel(\"Loss\")\n",
    "plt.show()"
   ]
  },
  {
   "attachments": {
    "32bccb04-2ea3-4b53-83ed-6f939edc808b.png": {
     "image/png": "[encoded data removed]"
    }
   },
   "cell_type": "markdown",
   "id": "49bf6927-c6d8-4d7d-b4fa-938a4cb2fca1",
   "metadata": {},
   "source": [
    "![test_1.png](attachment:32bccb04-2ea3-4b53-83ed-6f939edc808b.png)"
   ]
  },
  {
   "cell_type": "markdown",
   "id": "3136a6be",
   "metadata": {},
   "source": [
    "### Let's calculate the following predictions\n",
    "* Calculate the neural network prediction for the input `[0.5, 8.7]` in the `output1` variable.\n",
    "* Calculate the neural network prediction for the input `[15, -15]` in the `output2` variable.\n"
   ]
  },
  {
   "cell_type": "code",
   "execution_count": 97,
   "id": "93424e34",
   "metadata": {
    "ExecuteTime": {
     "end_time": "2024-01-19T07:42:21.656428300Z",
     "start_time": "2024-01-19T07:42:21.604441200Z"
    }
   },
   "outputs": [],
   "source": [
    "import numpy as np\n",
    "# TODO: Calculate two predictions for given (x,y) points\n",
    "def make_prediction(network, input_data):\n",
    "    # reshaping the input_data to a 2D array\n",
    "    input_data_reshaped = input_data.reshape(1, -1)\n",
    "    \n",
    "    dummy_y = np.array([[0]])\n",
    "    network_output = network.forwardpropagation(input_data_reshaped, dummy_y)\n",
    "    prediction_output = network.output\n",
    "    prediction = 1 if prediction_output >= 0.5 else 0\n",
    "    return prediction\n",
    "\n",
    "# TODO: Calculate the prediction for the first input\n",
    "test_X_nn = np.array([0.5, 8.7])\n",
    "output1 = make_prediction(network, test_X_nn)  \n",
    "\n",
    "# TODO: Calculate the prediction for the second input\n",
    "test_X_nn2 = np.array([15, -15])\n",
    "output2 = make_prediction(network, test_X_nn2)"
   ]
  },
  {
   "cell_type": "code",
   "execution_count": 98,
   "id": "8e6636dc",
   "metadata": {
    "ExecuteTime": {
     "end_time": "2024-01-19T07:42:21.657474300Z",
     "start_time": "2024-01-19T07:42:21.619398900Z"
    }
   },
   "outputs": [
    {
     "name": "stdout",
     "output_type": "stream",
     "text": [
      "Prediction for [0.5, 8.7]: 1\n",
      "Prediction for [15, -15]: 0\n"
     ]
    }
   ],
   "source": [
    "# Answers to the assignment. Note! Do not edit this cell, just run it after you complete the task.\n",
    "print(\"Prediction for [0.5, 8.7]:\", output1)\n",
    "print(\"Prediction for [15, -15]:\", output2)"
   ]
  },
  {
   "cell_type": "markdown",
   "id": "ebb7785b",
   "metadata": {},
   "source": [
    "# Assignment 2-2\n",
    "# Topic: Simple neural network with Keras Sequential API (max. 3 p)\n",
    "\n",
    "Train a simple neural network with the **Keras** interface using *Titanic dataset*.\n",
    "\n",
    "You can get the dataset from the URL: `https://student.labranet.jamk.fi/~varpe/datananalk2019/kerta10/titanic.csv`\n",
    "\n",
    "Steps that must be found in the assignment:\n",
    "1. Choose only the most important features from the Titanic data\n",
    "2. Create a neural network (use `tf.keras.Sequential()` method)\n",
    "3. Define loss function and optimizer (use `model.compile()` method)\n",
    "4. Train the neural network (use `model.fit()` method)\n",
    "5. Compare the predictions given by the neural network with the test data (use the `model.evaluate()` method)\n",
    "6. Print the results of the epochs to the console.\n",
    "7. Change the structure of the neural network and try to document the neural network with which you got the best results.\n",
    "* 500 - 1000 learning rounds (epochs) are certainly enough for this neural network.\n",
    "\n",
    "Example output:\n",
    "```\n",
    "23/23 [==============================] - 0s 687us/step - loss: 2.2182 - accuracy: 0.6236\n",
    "Epoch 2/1000\n",
    "23/23 [==============================] - 0s 702us/step - loss: 1.4468 - accuracy: 0.6238\n",
    "```\n",
    "\n",
    "Note! It's worth trying several neural network structures and comparing the learning results a little.\n"
   ]
  },
  {
   "cell_type": "markdown",
   "id": "8641abfb",
   "metadata": {},
   "source": [
    "### Data preprocessing + Keras - Titanic dataset\n",
    "\n",
    "A version that aims to retrieve the most important features that are most correlated with the `survived` field (class variable).\n"
   ]
  },
  {
   "cell_type": "code",
   "execution_count": 99,
   "id": "39b40983",
   "metadata": {
    "ExecuteTime": {
     "end_time": "2024-01-19T07:42:21.817773Z",
     "start_time": "2024-01-19T07:42:21.633587Z"
    }
   },
   "outputs": [
    {
     "name": "stdout",
     "output_type": "stream",
     "text": [
      "   Survived  Pclass     Sex   Age  SibSp  Parch     Fare Embarked Title\n",
      "0         0       3    male  22.0      1      0   7.2500        S    Mr\n",
      "1         1       1  female  38.0      1      0  71.2833        C   Mrs\n",
      "2         1       3  female  26.0      0      0   7.9250        S  Miss\n",
      "3         1       1  female  35.0      1      0  53.1000        S   Mrs\n",
      "4         0       3    male  35.0      0      0   8.0500        S    Mr\n"
     ]
    }
   ],
   "source": [
    "# TODO: Implementation of the task\n",
    "# TODO: Implement Data Preprocessing\n",
    "\n",
    "import pandas as pd\n",
    "import matplotlib.pyplot as plt\n",
    "import seaborn as sns\n",
    "import numpy as np\n",
    "from sklearn.model_selection import train_test_split\n",
    "from sklearn.pipeline import Pipeline\n",
    "from sklearn.preprocessing import StandardScaler, OneHotEncoder\n",
    "from tensorflow.keras.models import Sequential\n",
    "from tensorflow.keras.layers import Dense, Dropout\n",
    "from tensorflow.keras.callbacks import EarlyStopping\n",
    "from sklearn.compose import ColumnTransformer\n",
    "from sklearn.impute import SimpleImputer\n",
    "\n",
    "\n",
    "# Data Preprocessing\n",
    "df = pd.read_csv('https://student.labranet.jamk.fi/~varpe/datananalk2019/kerta10/titanic.csv')\n",
    "\n",
    "# Feature Engineering (Extract titles from names)\n",
    "df['Title'] = df['Name'].apply(lambda x: x.split(',')[1].split('.')[0].strip())\n",
    "\n",
    "df.drop(['PassengerId', 'Name', 'Ticket', 'Cabin'], axis=1, inplace=True)\n",
    "df['Age'].fillna(df['Age'].mean(), inplace=True)\n",
    "df['Embarked'].fillna(df['Embarked'].mode()[0], inplace=True)\n",
    "\n",
    "# Defining feature columns\n",
    "categorical_features = ['Sex', 'Embarked', 'Title']\n",
    "numerical_features = ['Age', 'Fare', 'Pclass', 'SibSp', 'Parch']\n",
    "\n",
    "# Preprocessing for categorical data\n",
    "categorical_transformer = OneHotEncoder(handle_unknown='ignore')\n",
    "\n",
    "# Preprocessing for numerical data\n",
    "numerical_transformer = Pipeline(steps=[\n",
    "    ('imputer', SimpleImputer(strategy='mean')),\n",
    "    ('scaler', StandardScaler())])\n",
    "\n",
    "# Preprocessing for numerical and categorical data\n",
    "preprocessor = ColumnTransformer(\n",
    "    transformers=[\n",
    "        ('num', numerical_transformer, numerical_features),\n",
    "        ('cat', categorical_transformer, categorical_features)])\n",
    "\n",
    "# Preprocessing the data\n",
    "X = df.drop('Survived', axis=1)\n",
    "y = df['Survived']\n",
    "X = preprocessor.fit_transform(X)\n",
    "\n",
    "print(df.head())"
   ]
  },
  {
   "cell_type": "markdown",
   "id": "3919339d805c631a",
   "metadata": {
    "lines_to_next_cell": 2
   },
   "source": [
    "If you get *\"SSL certificate expired error\"*, the above code will help.\n",
    "\n",
    "Another alternative is to just copy the CSV file to your own local repository to do the assignment."
   ]
  },
  {
   "cell_type": "code",
   "execution_count": 100,
   "id": "fbaf71a3df8eace4",
   "metadata": {
    "ExecuteTime": {
     "end_time": "2024-01-19T07:42:21.862362100Z",
     "start_time": "2024-01-19T07:42:21.820764200Z"
    }
   },
   "outputs": [],
   "source": [
    "# import ssl\n",
    "# ssl._create_default_https_context = ssl._create_unverified_context\n",
    "# df = pd.read_csv(...)"
   ]
  },
  {
   "cell_type": "markdown",
   "id": "201fe358",
   "metadata": {
    "lines_to_next_cell": 0
   },
   "source": [
    "### Splitting the Data\n",
    "* Extract the class variable from the data.\n",
    "* Divide the data into training and test data.\n"
   ]
  },
  {
   "cell_type": "code",
   "execution_count": 101,
   "id": "aefbc9b1",
   "metadata": {
    "ExecuteTime": {
     "end_time": "2024-01-19T07:42:21.877281800Z",
     "start_time": "2024-01-19T07:42:21.837754200Z"
    }
   },
   "outputs": [
    {
     "name": "stdout",
     "output_type": "stream",
     "text": [
      "X Data: \n",
      "      Pclass     Sex        Age  SibSp  Parch     Fare Embarked Title\n",
      "0         3    male  22.000000      1      0   7.2500        S    Mr\n",
      "1         1  female  38.000000      1      0  71.2833        C   Mrs\n",
      "2         3  female  26.000000      0      0   7.9250        S  Miss\n",
      "3         1  female  35.000000      1      0  53.1000        S   Mrs\n",
      "4         3    male  35.000000      0      0   8.0500        S    Mr\n",
      "..      ...     ...        ...    ...    ...      ...      ...   ...\n",
      "886       2    male  27.000000      0      0  13.0000        S   Rev\n",
      "887       1  female  19.000000      0      0  30.0000        S  Miss\n",
      "888       3  female  29.699118      1      2  23.4500        S  Miss\n",
      "889       1    male  26.000000      0      0  30.0000        C    Mr\n",
      "890       3    male  32.000000      0      0   7.7500        Q    Mr\n",
      "\n",
      "[891 rows x 8 columns]\n",
      "y Data: \n",
      " 0      0\n",
      "1      1\n",
      "2      1\n",
      "3      1\n",
      "4      0\n",
      "      ..\n",
      "886    0\n",
      "887    1\n",
      "888    0\n",
      "889    1\n",
      "890    0\n",
      "Name: Survived, Length: 891, dtype: int64\n"
     ]
    }
   ],
   "source": [
    "# Implementation of the task\n",
    "\n",
    "# Splitting the data\n",
    "X = df.drop('Survived', axis=1)\n",
    "y = df['Survived']\n",
    "X_train, X_test, y_train, y_test = train_test_split(X, y, test_size=0.2, random_state=42)\n",
    "\n",
    "print(\"X Data: \\n\",X)\n",
    "print(\"y Data: \\n\",y)"
   ]
  },
  {
   "cell_type": "markdown",
   "id": "fa082dbf",
   "metadata": {
    "lines_to_next_cell": 0
   },
   "source": [
    "### Implementation of the task using the Keras library\n",
    "\n",
    "Create a neural network with `Dense` layers one after the other (`Sequential`). Specify these two parameters at least:\n",
    "* `units` – dimensionality of the output space.\n",
    "* `activation` – Activation function to use.\n",
    "\n",
    "Creating a neural network based on `Sequential` class.\n",
    "\n",
    "      model = tf.keras.Sequential([\n",
    "          tf.keras.layers.Dense(neurons, activation='relu'), ...\n",
    "          # Define Layers in between (one or more hidden layers)\n",
    "          # In the output layer there is only one neuron (i.e. Survived, the output value is between 0-1)\n",
    "\n",
    "Note! It is worth trying several neural network structures and comparing the learning results of them."
   ]
  },
  {
   "cell_type": "code",
   "execution_count": 107,
   "id": "1113980a",
   "metadata": {
    "ExecuteTime": {
     "end_time": "2024-01-19T07:42:33.625149100Z",
     "start_time": "2024-01-19T07:42:21.852332500Z"
    }
   },
   "outputs": [],
   "source": [
    "# Implementation of tasks\n",
    "import tensorflow as tf\n",
    "from tensorflow.keras.models import Sequential\n",
    "from tensorflow.keras.layers import Dense\n",
    "\n",
    "\n",
    "tf.keras.backend.set_floatx('float64')\n",
    "\n",
    "# TODO: Create a neural network\n",
    "model = Sequential([\n",
    "    Dense(128, activation='relu', input_dim=X_train.shape[1]),\n",
    "    Dropout(0.3),\n",
    "    Dense(64, activation='relu'),\n",
    "    Dropout(0.2),\n",
    "    Dense(32, activation='relu'),\n",
    "    Dropout(0.2),\n",
    "    Dense(1, activation='sigmoid')\n",
    "])\n"
   ]
  },
  {
   "cell_type": "markdown",
   "id": "b02a5b03",
   "metadata": {
    "lines_to_next_cell": 2
   },
   "source": [
    "Next steps in the task are:\n",
    "\n",
    "* Compile the model (`model.compile()`)\n",
    "* Train the neural network with *n epoch* rounds (`model.fit()`)\n",
    "* Compare the obtained learning results with the test data (`model.evaluate()`)\n",
    "* define loss function: `loss='binary_crossentropy'`\n",
    "\n",
    "Note! `verbose=1` is a good option in the fit()/evaluate() functions, which allows you to see how the teaching progresses by epoch cycles"
   ]
  },
  {
   "cell_type": "code",
   "execution_count": null,
   "id": "b8a483b2",
   "metadata": {
    "ExecuteTime": {
     "end_time": "2024-01-19T07:42:33.644098300Z",
     "start_time": "2024-01-19T07:42:33.632173700Z"
    }
   },
   "outputs": [],
   "source": [
    "# Implementation of the task\n",
    "import numpy as np\n",
    "\n",
    "X_train = pd.get_dummies(X_train)\n",
    "X_test = pd.get_dummies(X_test)\n",
    "\n",
    "X_train, X_test = X_train.align(X_test, join='inner', axis=1) \n",
    "\n",
    "X_train = X_train.astype('float32')\n",
    "X_test = X_test.astype('float32')\n",
    "y_train = y_train.astype('float32')\n",
    "y_test = y_test.astype('float32')\n",
    "\n",
    "\n",
    "# TODO: Compile the model\n",
    "model.compile(optimizer='adam', loss='binary_crossentropy', metrics=['accuracy'])\n",
    "\n",
    "# TODO: Train the neural network with n epoch rounds\n",
    "\n",
    "# Early Stopping to prevent overfitting\n",
    "# early_stopping = EarlyStopping(monitor='val_loss', patience=500, restore_best_weights=True)\n",
    "# callbacks=[early_stopping]\n",
    "\n",
    "\n",
    "# Train the model\n",
    "history = model.fit(X_train, y_train, epochs=1000, batch_size=32, verbose=1, validation_split=0.2)\n",
    "\n",
    "# Evaluate the model\n",
    "results = model.evaluate(X_test, y_test, verbose=1)"
   ]
  },
  {
   "cell_type": "code",
   "execution_count": 119,
   "id": "a01904af",
   "metadata": {
    "ExecuteTime": {
     "end_time": "2024-01-19T07:42:33.702164400Z",
     "start_time": "2024-01-19T07:42:33.647091300Z"
    }
   },
   "outputs": [
    {
     "name": "stdout",
     "output_type": "stream",
     "text": [
      "Test Loss:0.9252550707899231 Test Accuracy:82.12290502793296%\n"
     ]
    }
   ],
   "source": [
    "# Answers to the assignment.\n",
    "# Note! Do not edit this cell, just run it after you complete the task. Set the result of the model.evaluate() function in the results variable.\n",
    "\n",
    "# TODO: Be sure to set the model.compile() function to be tracked as metrics=['accuracy'] to define the accuracy of the neural network predictions.\n",
    "print(f\"Test Loss:{results[0]} Test Accuracy:{results[1] * 100}%\")"
   ]
  },
  {
   "cell_type": "markdown",
   "id": "b0b9b09c",
   "metadata": {},
   "source": [
    "About the modeling results:\n",
    "* Test Accuracy: approx. 80% or greater is already pretty good\n",
    "* You can try to get better results for improving your modeling skills\n"
   ]
  },
  {
   "cell_type": "markdown",
   "id": "02ae1be5-ae2c-495e-9cd6-614edc47c0fb",
   "metadata": {},
   "source": [
    "### Reflection\n",
    "[1] - This was a good challenge and very intersting to test own limits. \n",
    "[2] - This was the first task that I am not sure if I solved correct, interesting to see the outcome. \n",
    "[3] - Thank you very much for such an interesting and good challenge. "
   ]
  }
 ],
 "metadata": {
  "jupytext": {
   "cell_metadata_filter": "-all",
   "main_language": "python",
   "notebook_metadata_filter": "-all"
  },
  "kernelspec": {
   "display_name": "Python 3 (ipykernel)",
   "language": "python",
   "name": "python3"
  },
  "language_info": {
   "codemirror_mode": {
    "name": "ipython",
    "version": 3
   },
   "file_extension": ".py",
   "mimetype": "text/x-python",
   "name": "python",
   "nbconvert_exporter": "python",
   "pygments_lexer": "ipython3",
   "version": "3.9.18"
  }
 },
 "nbformat": 4,
 "nbformat_minor": 5
}
