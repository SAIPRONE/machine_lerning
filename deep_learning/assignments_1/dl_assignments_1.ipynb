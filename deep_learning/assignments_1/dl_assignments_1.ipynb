{
 "cells": [
  {
   "cell_type": "markdown",
   "id": "4cdc091c",
   "metadata": {},
   "source": [
    "## Deep Learning: Assignment 1: Perceptrons"
   ]
  },
  {
   "cell_type": "code",
   "execution_count": 1,
   "id": "0fcf5d48",
   "metadata": {
    "ExecuteTime": {
     "end_time": "2024-01-18T16:05:40.365261700Z",
     "start_time": "2024-01-18T16:05:40.314283700Z"
    }
   },
   "outputs": [],
   "source": [
    "# Enter your own information here!\n",
    "student_name = 'Fadi Helal'\n",
    "student_id = '2312951'"
   ]
  },
  {
   "cell_type": "markdown",
   "id": "a1b3a93c",
   "metadata": {},
   "source": [
    "## Assignment 1-1\n",
    "### Topic: Happiness, Classifier: Perceptron (3 p)\n",
    "\n",
    "Check out the **Somerville Happiness Survey Data Set** at\n",
    "[https://archive.ics.uci.edu/ml/datasets/Somerville+Happiness+Survey](https://archive.ics.uci.edu/ml/datasets/Somerville+Happiness+Survey).\n",
    "\n",
    "Preprocess the data.\n",
    "Note! the file is UTF-16 encoded, so you need to set encoding when reading."
   ]
  },
  {
   "cell_type": "code",
   "execution_count": 17,
   "id": "e9517d25",
   "metadata": {
    "ExecuteTime": {
     "end_time": "2024-01-18T16:05:40.391251100Z",
     "start_time": "2024-01-18T16:05:40.360238300Z"
    }
   },
   "outputs": [
    {
     "name": "stdout",
     "output_type": "stream",
     "text": [
      "Columns: Index(['happy', 'info-availability', 'cost-of-housing',\n",
      "       'quality-public-schools', 'trust-in-local-police',\n",
      "       'maintenance-of-streets', 'social-event-availability'],\n",
      "      dtype='object')\n",
      "First row by position: happy                        0\n",
      "info-availability            3\n",
      "cost-of-housing              3\n",
      "quality-public-schools       3\n",
      "trust-in-local-police        4\n",
      "maintenance-of-streets       2\n",
      "social-event-availability    4\n",
      "Name: 0, dtype: int64\n"
     ]
    }
   ],
   "source": [
    "# Note! Implementation code of preprocessing is already written in this assignment.\n",
    "import pandas as pd\n",
    "\n",
    "df = pd.read_csv('./data/SomervilleHappinessSurvey2015.csv', encoding='utf-16')\n",
    "\n",
    "feature_columns = [\n",
    "     'info-availability',\n",
    "     'cost-of-housing',\n",
    "     'quality-public-schools',\n",
    "     'trust-in-local-police',\n",
    "     'maintenance-of-streets',\n",
    "     'social-event-availability'\n",
    "]\n",
    "\n",
    "columns = ['happy'] + feature_columns\n",
    "\n",
    "df.columns = columns\n",
    "# Save the DataFrame to the df variable and the training data.\n",
    "print(f'Columns: {df.columns}')\n",
    "print(f'First row by position: {df.iloc[0]}')"
   ]
  },
  {
   "cell_type": "markdown",
   "id": "9a074e86",
   "metadata": {},
   "source": [
    "Split the dataset into training (67 %) and testing (33 %) (`X_train`, `y_train`, `X_test`, `y_test`) dataset.\n",
    "Use random seed `9001`."
   ]
  },
  {
   "cell_type": "code",
   "execution_count": 18,
   "id": "780d7d05",
   "metadata": {
    "ExecuteTime": {
     "end_time": "2024-01-18T16:05:40.412264900Z",
     "start_time": "2024-01-18T16:05:40.390252800Z"
    }
   },
   "outputs": [],
   "source": [
    "# TODO: Type your implementation in this cell.\n",
    "# TODO: Split the dataset\n",
    "from sklearn.model_selection import train_test_split\n",
    "X = df[feature_columns]  # Features\n",
    "y = df['happy']  \n",
    "\n",
    "X_train, X_test, y_train, y_test = train_test_split(X, y, test_size=0.33, random_state=9001)"
   ]
  },
  {
   "cell_type": "code",
   "execution_count": 19,
   "id": "2a936f70",
   "metadata": {
    "ExecuteTime": {
     "end_time": "2024-01-18T16:05:47.227001400Z",
     "start_time": "2024-01-18T16:05:40.405283400Z"
    }
   },
   "outputs": [
    {
     "name": "stdout",
     "output_type": "stream",
     "text": [
      "Test length: 48\n",
      "Train length: 95\n"
     ]
    }
   ],
   "source": [
    "# Answers to the assignment.\n",
    "# Note! Do not edit this cell, just run it after you complete the task.\n",
    "print(f'Test length: {len(X_test)}')\n",
    "print(f'Train length: {len(X_train)}')"
   ]
  },
  {
   "cell_type": "markdown",
   "id": "7d8faa18",
   "metadata": {},
   "source": [
    "### Implement a linear perceptron classifier\n",
    "\n",
    "1. Use the linear perceptron from `scikit-learn` library to create a classifier. Save the classifier in the `pc` variable.\n",
    "\n",
    "2. Predict the probability of your test data being in the class using your classifier and save the confidence scores in the variable `y_score`.\n",
    "   Save the result of the predicted classes in the variable `y_pred`. Hint: you can use `decision_function()` to calculate confidence scores.\n",
    "\n",
    "3. Save the classification report `cr` and the confusion matrix `cm` using the `metrics` module.\n",
    "\n",
    "4. Calculate the ROC values for the regression using the `metrics` module of the `scikit-learn` library.\n",
    "   Calculate the area under the ROC curve variable `auc`. Plot the threshold optimization curve using the `matplotlib` library.\n",
    "\n",
    "5. Write in the `reflection` variable thoughts of ROC curve and accuracy."
   ]
  },
  {
   "cell_type": "code",
   "execution_count": 20,
   "id": "a8343d0e",
   "metadata": {
    "ExecuteTime": {
     "end_time": "2024-01-18T16:05:47.252931100Z",
     "start_time": "2024-01-18T16:05:47.228994800Z"
    },
    "lines_to_next_cell": 2
   },
   "outputs": [
    {
     "data": {
      "text/html": [
       "<style>#sk-container-id-2 {color: black;}#sk-container-id-2 pre{padding: 0;}#sk-container-id-2 div.sk-toggleable {background-color: white;}#sk-container-id-2 label.sk-toggleable__label {cursor: pointer;display: block;width: 100%;margin-bottom: 0;padding: 0.3em;box-sizing: border-box;text-align: center;}#sk-container-id-2 label.sk-toggleable__label-arrow:before {content: \"▸\";float: left;margin-right: 0.25em;color: #696969;}#sk-container-id-2 label.sk-toggleable__label-arrow:hover:before {color: black;}#sk-container-id-2 div.sk-estimator:hover label.sk-toggleable__label-arrow:before {color: black;}#sk-container-id-2 div.sk-toggleable__content {max-height: 0;max-width: 0;overflow: hidden;text-align: left;background-color: #f0f8ff;}#sk-container-id-2 div.sk-toggleable__content pre {margin: 0.2em;color: black;border-radius: 0.25em;background-color: #f0f8ff;}#sk-container-id-2 input.sk-toggleable__control:checked~div.sk-toggleable__content {max-height: 200px;max-width: 100%;overflow: auto;}#sk-container-id-2 input.sk-toggleable__control:checked~label.sk-toggleable__label-arrow:before {content: \"▾\";}#sk-container-id-2 div.sk-estimator input.sk-toggleable__control:checked~label.sk-toggleable__label {background-color: #d4ebff;}#sk-container-id-2 div.sk-label input.sk-toggleable__control:checked~label.sk-toggleable__label {background-color: #d4ebff;}#sk-container-id-2 input.sk-hidden--visually {border: 0;clip: rect(1px 1px 1px 1px);clip: rect(1px, 1px, 1px, 1px);height: 1px;margin: -1px;overflow: hidden;padding: 0;position: absolute;width: 1px;}#sk-container-id-2 div.sk-estimator {font-family: monospace;background-color: #f0f8ff;border: 1px dotted black;border-radius: 0.25em;box-sizing: border-box;margin-bottom: 0.5em;}#sk-container-id-2 div.sk-estimator:hover {background-color: #d4ebff;}#sk-container-id-2 div.sk-parallel-item::after {content: \"\";width: 100%;border-bottom: 1px solid gray;flex-grow: 1;}#sk-container-id-2 div.sk-label:hover label.sk-toggleable__label {background-color: #d4ebff;}#sk-container-id-2 div.sk-serial::before {content: \"\";position: absolute;border-left: 1px solid gray;box-sizing: border-box;top: 0;bottom: 0;left: 50%;z-index: 0;}#sk-container-id-2 div.sk-serial {display: flex;flex-direction: column;align-items: center;background-color: white;padding-right: 0.2em;padding-left: 0.2em;position: relative;}#sk-container-id-2 div.sk-item {position: relative;z-index: 1;}#sk-container-id-2 div.sk-parallel {display: flex;align-items: stretch;justify-content: center;background-color: white;position: relative;}#sk-container-id-2 div.sk-item::before, #sk-container-id-2 div.sk-parallel-item::before {content: \"\";position: absolute;border-left: 1px solid gray;box-sizing: border-box;top: 0;bottom: 0;left: 50%;z-index: -1;}#sk-container-id-2 div.sk-parallel-item {display: flex;flex-direction: column;z-index: 1;position: relative;background-color: white;}#sk-container-id-2 div.sk-parallel-item:first-child::after {align-self: flex-end;width: 50%;}#sk-container-id-2 div.sk-parallel-item:last-child::after {align-self: flex-start;width: 50%;}#sk-container-id-2 div.sk-parallel-item:only-child::after {width: 0;}#sk-container-id-2 div.sk-dashed-wrapped {border: 1px dashed gray;margin: 0 0.4em 0.5em 0.4em;box-sizing: border-box;padding-bottom: 0.4em;background-color: white;}#sk-container-id-2 div.sk-label label {font-family: monospace;font-weight: bold;display: inline-block;line-height: 1.2em;}#sk-container-id-2 div.sk-label-container {text-align: center;}#sk-container-id-2 div.sk-container {/* jupyter's `normalize.less` sets `[hidden] { display: none; }` but bootstrap.min.css set `[hidden] { display: none !important; }` so we also need the `!important` here to be able to override the default hidden behavior on the sphinx rendered scikit-learn.org. See: https://github.com/scikit-learn/scikit-learn/issues/21755 */display: inline-block !important;position: relative;}#sk-container-id-2 div.sk-text-repr-fallback {display: none;}</style><div id=\"sk-container-id-2\" class=\"sk-top-container\"><div class=\"sk-text-repr-fallback\"><pre>Perceptron(random_state=9001)</pre><b>In a Jupyter environment, please rerun this cell to show the HTML representation or trust the notebook. <br />On GitHub, the HTML representation is unable to render, please try loading this page with nbviewer.org.</b></div><div class=\"sk-container\" hidden><div class=\"sk-item\"><div class=\"sk-estimator sk-toggleable\"><input class=\"sk-toggleable__control sk-hidden--visually\" id=\"sk-estimator-id-2\" type=\"checkbox\" checked><label for=\"sk-estimator-id-2\" class=\"sk-toggleable__label sk-toggleable__label-arrow\">Perceptron</label><div class=\"sk-toggleable__content\"><pre>Perceptron(random_state=9001)</pre></div></div></div></div></div>"
      ],
      "text/plain": [
       "Perceptron(random_state=9001)"
      ]
     },
     "execution_count": 20,
     "metadata": {},
     "output_type": "execute_result"
    }
   ],
   "source": [
    "# Type your implementation in this cell.\n",
    "from sklearn.linear_model import Perceptron\n",
    "pc = Perceptron(random_state=9001)\n",
    "pc.fit(X_train, y_train)"
   ]
  },
  {
   "cell_type": "code",
   "execution_count": 21,
   "id": "cf7af094",
   "metadata": {
    "ExecuteTime": {
     "start_time": "2024-01-18T16:05:47.234978800Z"
    }
   },
   "outputs": [
    {
     "name": "stdout",
     "output_type": "stream",
     "text": [
      "Perceptron average test accuracy: 0.4583333333333333\n"
     ]
    }
   ],
   "source": [
    "# Answers to the assignment.\n",
    "# Note! Do not edit this cell, just run it after you complete the task.\n",
    "print(f'Perceptron average test accuracy: {pc.score(X_test, y_test)}')"
   ]
  },
  {
   "cell_type": "code",
   "execution_count": 22,
   "id": "13eed681",
   "metadata": {
    "ExecuteTime": {
     "start_time": "2024-01-18T16:05:47.240963700Z"
    }
   },
   "outputs": [],
   "source": [
    "# TODO: Type your implementation in this cell.\n",
    "from sklearn.metrics import classification_report, confusion_matrix, roc_auc_score, roc_curve\n",
    "import matplotlib.pyplot as plt \n",
    "\n",
    "y_pred = pc.predict(X_test)\n",
    "y_score = pc.decision_function(X_test)\n",
    "\n",
    "# Make the classification report\n",
    "cr = classification_report(y_test, y_pred)\n",
    "cm = confusion_matrix(y_test, y_pred)\n",
    "\n",
    "# Calculating the ROC curve and AUC \n",
    "fpr, tpr, threshold = roc_curve(y_test, y_score)\n",
    "roc_auc = roc_auc_score(y_test, y_score)\n",
    "\n",
    "# Reflection - thoughts of ROC curve and accuracy.\n",
    "reflection = \"\"\"\n",
    "The ROC curve illustrates the performance of the classification model at all classification thresholds. \n",
    "This curve plots two parameters: True Positive Rate and False Positive Rate. \n",
    "AUC represents the degree or measure of separability. It tells how much the model is capable of distinguishing between classes. \n",
    "Higher the AUC, better the model is at predicting 0s as 0s and 1s as 1s. \n",
    "An AUC of 0.5 suggests no discrimination capacity, equivalent to random guessing. Ooooops -_^\n",
    "\"\"\""
   ]
  },
  {
   "cell_type": "code",
   "execution_count": 23,
   "id": "55e55fcb",
   "metadata": {
    "ExecuteTime": {
     "start_time": "2024-01-18T16:05:47.245949200Z"
    },
    "lines_to_next_cell": 2
   },
   "outputs": [
    {
     "name": "stdout",
     "output_type": "stream",
     "text": [
      "Classification report:\n",
      "               precision    recall  f1-score   support\n",
      "\n",
      "           0       0.48      0.83      0.61        24\n",
      "           1       0.33      0.08      0.13        24\n",
      "\n",
      "    accuracy                           0.46        48\n",
      "   macro avg       0.40      0.46      0.37        48\n",
      "weighted avg       0.40      0.46      0.37        48\n",
      "\n",
      "Confusion matrix:\n",
      " [[20  4]\n",
      " [22  2]]\n",
      "auc: 0.5130208333333334\n",
      "Reflection: \n",
      "The ROC curve illustrates the performance of the classification model at all classification thresholds. \n",
      "This curve plots two parameters: True Positive Rate and False Positive Rate. \n",
      "AUC represents the degree or measure of separability. It tells how much the model is capable of distinguishing between classes. \n",
      "Higher the AUC, better the model is at predicting 0s as 0s and 1s as 1s. \n",
      "An AUC of 0.5 suggests no discrimination capacity, equivalent to random guessing.\n",
      "\n"
     ]
    },
    {
     "data": {
      "image/png": "[encoded data removed]",
      "text/plain": [
       "<Figure size 640x480 with 1 Axes>"
      ]
     },
     "metadata": {},
     "output_type": "display_data"
    }
   ],
   "source": [
    "# Answers to the assignment.\n",
    "# Note! Do not edit this cell, just run it after you complete the task.\n",
    "\n",
    "print(f'Classification report:\\n {cr}')\n",
    "print(f'Confusion matrix:\\n {cm}')\n",
    "print(f'auc: {roc_auc}')\n",
    "print(f'Reflection: {reflection}')\n",
    "\n",
    "# Plotting the ROC Curve\n",
    "plt.figure()\n",
    "plt.plot(fpr, tpr, color='blue', lw=2, label='ROC Curve (area = %0.2f)'% roc_auc)\n",
    "plt.plot([0,1], [0,1], color='grey', lw=2, linestyle='--')\n",
    "plt.xlim([0.0, 1.0])\n",
    "plt.ylim([0.0, 1.05])\n",
    "plt.xlabel('False Positive Rate')\n",
    "plt.ylabel('True Positive Rate')\n",
    "plt.title('Receiver Operating Characteristic (ROC) Curve')\n",
    "plt.legend(loc='lower right')\n",
    "plt.show()"
   ]
  },
  {
   "cell_type": "markdown",
   "id": "edb5d0bc",
   "metadata": {},
   "source": [
    "## Assignment 1-2\n",
    "### Topic: Newsgroup messages with Perceptron (3 p)\n",
    "\n",
    "Check out the following dataset:\n",
    "\n",
    "* `sklearn.datasets.fetch_20newsgroups`\n",
    "\n",
    "This data contains messages sent to 20 newsgroups. Data does not need to be pre-processed at all.\n",
    "The following categories are used in the classification:\n",
    "* `categories: ['rec.sport.hockey', 'rec.sport.baseball', 'rec.autos']`\n",
    "* `categories_2: ['comp.graphics', 'comp.os.ms-windows.misc', 'comp.windows.x']`\n",
    "\n",
    "The dataset is already divided into test and train sets (`fetch_20newsgroups(subset)`).\n",
    "Use the following variables with training and test sets (`X_train`, `y_train`, `X_test`, `y_test`).\n",
    "\n",
    "Transform both training and test data with the methods of the `TfidfVectorizer` class.\n",
    "* Scaling is not needed here after this\n",
    "* You should print samples of the values to see if values are on the right scale: **0-1**.\n"
   ]
  },
  {
   "cell_type": "code",
   "execution_count": 29,
   "id": "8a631406",
   "metadata": {
    "ExecuteTime": {
     "start_time": "2024-01-18T16:05:47.251933800Z"
    }
   },
   "outputs": [],
   "source": [
    "# This implementation for Categories \n",
    "\n",
    "from sklearn.datasets import fetch_20newsgroups\n",
    "from sklearn.metrics import classification_report, confusion_matrix, ConfusionMatrixDisplay\n",
    "from sklearn.feature_extraction.text import TfidfVectorizer\n",
    "from sklearn.linear_model import Perceptron\n",
    "import matplotlib.pyplot as plt\n",
    "\n",
    "categories = ['rec.sport.hockey', 'rec.sport.baseball', 'rec.autos']\n",
    "\n",
    "# TODO: Set the name of the selectable test set (subset) and categories (categories)\n",
    "ng_train = fetch_20newsgroups(subset='train', categories=categories,\n",
    "                               remove=('headers', 'footers', 'quotes'))\n",
    "ng_test = fetch_20newsgroups(subset='test', categories=categories,\n",
    "                              remove=('headers', 'footers', 'quotes'))\n",
    "\n",
    "# Initializin the TfidfVectorizer\n",
    "Vectorizer = TfidfVectorizer()\n",
    "\n",
    "# TODO: Transform the training data to numerical with the fit_transform() method\n",
    "# TODO: Transform the test data using a different method\n",
    "X_train = Vectorizer.fit_transform(ng_train.data)\n",
    "X_test = Vectorizer.transform(ng_test.data)\n",
    "\n",
    "y_train = ng_train.target\n",
    "y_test = ng_test.target\n"
   ]
  },
  {
   "cell_type": "markdown",
   "id": "c69ed1ec",
   "metadata": {},
   "source": [
    "1. Use the linear perceptron from `scikit-learn` library to create a classifier.\n",
    "   Save the classifier in the `pc` variable. Use random seed `12501`.\n",
    "\n",
    "2. Predict the probability of your test data being in the class using your classifier and save the confidence scores in the variable `y_score`.\n",
    "   Save the result of the predicted classes in the variable `y_pred`.\n",
    "\n",
    "3. Save the classification report `cr` and the confusion matrix `cm` using the `metrics` module."
   ]
  },
  {
   "cell_type": "code",
   "execution_count": 30,
   "id": "a0213456",
   "metadata": {
    "ExecuteTime": {
     "end_time": "2024-01-18T16:05:47.270882500Z",
     "start_time": "2024-01-18T16:05:47.258916500Z"
    },
    "lines_to_next_cell": 0
   },
   "outputs": [
    {
     "name": "stdout",
     "output_type": "stream",
     "text": [
      "Classification report:\n",
      "               precision    recall  f1-score   support\n",
      "\n",
      "           0       0.85      0.92      0.88       396\n",
      "           1       0.87      0.78      0.82       397\n",
      "           2       0.86      0.87      0.87       399\n",
      "\n",
      "    accuracy                           0.86      1192\n",
      "   macro avg       0.86      0.86      0.86      1192\n",
      "weighted avg       0.86      0.86      0.86      1192\n",
      "\n",
      "Confusion matrix:\n",
      " [[365  19  12]\n",
      " [ 42 310  45]\n",
      " [ 24  27 348]]\n"
     ]
    }
   ],
   "source": [
    "# TODO: Type your implementation in this cell.\n",
    "pc = Perceptron(random_state=12501)\n",
    "pc.fit(X_train, y_train)\n",
    "\n",
    "# Predicting\n",
    "y_pred = pc.predict(X_test)\n",
    "# Using Decision_function because Perceptron doesn;t have its own probabilities predicting method. \n",
    "y_score = pc.decision_function(X_test)\n",
    "\n",
    "# making the classification report and the confusion matrix\n",
    "cr = classification_report(y_test, y_pred)\n",
    "cm = confusion_matrix(y_test, y_pred)\n",
    "\n",
    "print('Classification report:\\n', cr)\n",
    "print('Confusion matrix:\\n', cm)"
   ]
  },
  {
   "cell_type": "code",
   "execution_count": 31,
   "id": "383463c1",
   "metadata": {
    "ExecuteTime": {
     "start_time": "2024-01-18T16:05:47.262905400Z"
    }
   },
   "outputs": [
    {
     "name": "stdout",
     "output_type": "stream",
     "text": [
      "Predict: [1 2 0 ... 0 2 0] and score: [[-0.21437599  0.43421675 -0.35453969]\n",
      " [-0.3811092  -0.11365841 -0.01741706]\n",
      " [ 0.13018903 -0.89340003 -0.43527784]\n",
      " ...\n",
      " [ 0.01711722 -0.07380962 -0.23293169]\n",
      " [-0.77755308 -0.6939603   0.59417642]\n",
      " [ 0.21410956 -0.09395535 -0.1688701 ]]\n",
      "Perceptron average test accuracy: 0.8582214765100671\n",
      "[[365  19  12]\n",
      " [ 42 310  45]\n",
      " [ 24  27 348]]\n",
      "              precision    recall  f1-score   support\n",
      "\n",
      "           0       0.85      0.92      0.88       396\n",
      "           1       0.87      0.78      0.82       397\n",
      "           2       0.86      0.87      0.87       399\n",
      "\n",
      "    accuracy                           0.86      1192\n",
      "   macro avg       0.86      0.86      0.86      1192\n",
      "weighted avg       0.86      0.86      0.86      1192\n",
      "\n"
     ]
    }
   ],
   "source": [
    "# Running the assignment's answers.\n",
    "# Note! Do not edit this cell, just run it after you complete the assignment.\n",
    "\n",
    "print(f\"Predict: {y_pred} and score: {y_score}\")\n",
    "print(f'Perceptron average test accuracy: {pc.score(X_test, ng_test.target)}')\n",
    "print(cm) # compare the actual values with the predictions\n",
    "print(cr)"
   ]
  },
  {
   "cell_type": "markdown",
   "id": "a3828220",
   "metadata": {},
   "source": [
    "Let's draw a picture of the confusion matrix."
   ]
  },
  {
   "cell_type": "code",
   "execution_count": 32,
   "id": "a9a732c8",
   "metadata": {
    "ExecuteTime": {
     "start_time": "2024-01-18T16:05:47.265897500Z"
    },
    "lines_to_next_cell": 2
   },
   "outputs": [
    {
     "data": {
      "image/png": "[encoded data removed]",
      "text/plain": [
       "<Figure size 640x480 with 2 Axes>"
      ]
     },
     "metadata": {},
     "output_type": "display_data"
    }
   ],
   "source": [
    "# TODO: plot the confusion matrix\n",
    "ConfusionMatrixDisplay(cm, display_labels=ng_train.target_names).plot()\n",
    "plt.show()"
   ]
  },
  {
   "cell_type": "markdown",
   "id": "22f9fa62",
   "metadata": {},
   "source": [
    "# Assignment 1-3) (2 p) Another newgroup classifier\n",
    "\n",
    "Do the same task as in _assignment 1-2_ by using another `categories_2` categories list.\n",
    "* The obtained results are analyzed by comparing results with the results of _assignment 1-2_.\n",
    "\n",
    "Reflection: Compare the learning results with the newsgroup data with each other.\n",
    "Verbally reflect on what the possible differences in the results are due to."
   ]
  },
  {
   "cell_type": "code",
   "execution_count": 59,
   "id": "5cdd3ded",
   "metadata": {
    "ExecuteTime": {
     "start_time": "2024-01-18T16:05:47.269885200Z"
    },
    "lines_to_next_cell": 2
   },
   "outputs": [
    {
     "name": "stdout",
     "output_type": "stream",
     "text": [
      "Classification report for categories_2:\n",
      "                     precision    recall  f1-score   support\n",
      "\n",
      "         rec.autos       0.85      0.92      0.88       396\n",
      "rec.sport.baseball       0.87      0.78      0.82       397\n",
      "  rec.sport.hockey       0.86      0.87      0.87       399\n",
      "\n",
      "          accuracy                           0.86      1192\n",
      "         macro avg       0.86      0.86      0.86      1192\n",
      "      weighted avg       0.86      0.86      0.86      1192\n",
      "\n",
      "Confusion matrix for categories_2:\n",
      " [[365  19  12]\n",
      " [ 42 310  45]\n",
      " [ 24  27 348]]\n",
      "\n",
      "The ROC curve illustrates the performance of the classification model at all classification thresholds. \n",
      "This curve plots two parameters: True Positive Rate and False Positive Rate. \n",
      "AUC represents the degree or measure of separability. It tells how much the model is capable of distinguishing between classes. \n",
      "Higher the AUC, better the model is at predicting 0s as 0s and 1s as 1s. \n",
      "An AUC of 0.5 suggests no discrimination capacity, equivalent to random guessing.\n",
      "\n"
     ]
    }
   ],
   "source": [
    "from sklearn.datasets import fetch_20newsgroups\n",
    "from sklearn.metrics import classification_report, confusion_matrix, ConfusionMatrixDisplay\n",
    "from sklearn.feature_extraction.text import TfidfVectorizer\n",
    "from sklearn.linear_model import Perceptron\n",
    "import matplotlib.pyplot as plt\n",
    "\n",
    "categories_2 = ['comp.graphics', 'comp.os.ms-windows.misc', 'comp.windows.x']\n",
    "\n",
    "# Fetching the training and testing datasets\n",
    "ng_train_2 = fetch_20newsgroups(subset='train', categories=categories_2, remove=('headers', 'footers', 'quotes'))\n",
    "ng_test_2 = fetch_20newsgroups(subset='test', categories=categories_2, remove=('headers', 'footers', 'quotes'))\n",
    "\n",
    "# Vectorizing the datasets\n",
    "vectorizer = TfidfVectorizer()\n",
    "\n",
    "X_train = vectorizer.fit_transform(ng_train.data)\n",
    "X_test = vectorizer.transform(ng_test.data)\n",
    "\n",
    "# Setting the target variables\n",
    "y_train = ng_train.target\n",
    "y_test = ng_test.target\n",
    "\n",
    "# Initializing and training the Perceptron classifier\n",
    "clf = Perceptron(random_state=12501)\n",
    "clf.fit(X_train, y_train)\n",
    "\n",
    "# Making predictions with the trained classifier\n",
    "y_pred = clf.predict(X_test)\n",
    "# Perceptron does not have a method for predict_proba, so we use decision_function for confidence scores\n",
    "y_score = clf.decision_function(X_test)\n",
    "\n",
    "# Generating the classification report and confusion matrix\n",
    "cr = classification_report(y_test, y_pred, target_names=ng_test.target_names)\n",
    "cm = confusion_matrix(y_test, y_pred)\n",
    "\n",
    "# Printing the classification report and confusion matrix\n",
    "print('Classification report for categories_2:\\n', cr)\n",
    "print('Confusion matrix for categories_2:\\n', cm)\n",
    "\n",
    "# Reflection\n",
    "reflection_2 = \"\"\"\n",
    "Reflection:\n",
    "Reflecting on the outcomes with two different newsgroup categories, the shift in the accuracy likely comes from the inherent \n",
    "complexity and similarity of topics in the second set. Unlike the broader themes in the first, the computer-related groups \n",
    "blend together, challenging the Perceptron to to find distinctions. This scenario nicely illustrates how closely \n",
    "related topics can test the limits of the most straightforward models.\n",
    "Very Interesting, quite challenging tasks in the deep learning, hopefully my code is correct =)) \n",
    "\"\"\"\n",
    "print(reflection)"
   ]
  },
  {
   "cell_type": "code",
   "execution_count": 60,
   "id": "fcad243d",
   "metadata": {
    "ExecuteTime": {
     "end_time": "2024-01-18T16:05:47.273878100Z",
     "start_time": "2024-01-18T16:05:47.273878100Z"
    }
   },
   "outputs": [
    {
     "name": "stdout",
     "output_type": "stream",
     "text": [
      "Predict: [1 2 0 ... 0 2 0] and score: [[-0.21437599  0.43421675 -0.35453969]\n",
      " [-0.3811092  -0.11365841 -0.01741706]\n",
      " [ 0.13018903 -0.89340003 -0.43527784]\n",
      " ...\n",
      " [ 0.01711722 -0.07380962 -0.23293169]\n",
      " [-0.77755308 -0.6939603   0.59417642]\n",
      " [ 0.21410956 -0.09395535 -0.1688701 ]]\n",
      "Perceptron average test accuracy: 0.8582214765100671\n",
      "[[365  19  12]\n",
      " [ 42 310  45]\n",
      " [ 24  27 348]]\n",
      "              precision    recall  f1-score   support\n",
      "\n",
      "           0       0.85      0.92      0.88       396\n",
      "           1       0.87      0.78      0.82       397\n",
      "           2       0.86      0.87      0.87       399\n",
      "\n",
      "    accuracy                           0.86      1192\n",
      "   macro avg       0.86      0.86      0.86      1192\n",
      "weighted avg       0.86      0.86      0.86      1192\n",
      "\n"
     ]
    }
   ],
   "source": [
    "# Running the assignment's answers.\n",
    "# Note! Do not edit this cell, just run it after you complete the task.\n",
    "\n",
    "print(f\"Predict: {y_pred} and score: {y_score}\")\n",
    "print(f'Perceptron average test accuracy: {clf.score(X_test, ng_test.target)}')\n",
    "print(confusion_matrix(ng_test.target, y_pred))\n",
    "print(classification_report(ng_test.target, y_pred))"
   ]
  },
  {
   "cell_type": "markdown",
   "id": "68621c02",
   "metadata": {},
   "source": [
    "Let's draw a picture of the confusion matrix with `categories_2` data."
   ]
  },
  {
   "cell_type": "code",
   "execution_count": 53,
   "id": "b7727403",
   "metadata": {
    "ExecuteTime": {
     "start_time": "2024-01-18T16:05:47.277865100Z"
    }
   },
   "outputs": [
    {
     "data": {
      "image/png": "[encoded data removed]",
      "text/plain": [
       "<Figure size 640x480 with 2 Axes>"
      ]
     },
     "metadata": {},
     "output_type": "display_data"
    }
   ],
   "source": [
    "# TODO: Plot the confusion matrix\n",
    "ConfusionMatrixDisplay(cm_2, display_labels=ng_train_2.target_names).plot()\n",
    "plt.title('Confusion Matrix for Categories_2')\n",
    "plt.show()"
   ]
  }
 ],
 "metadata": {
  "jupytext": {
   "cell_metadata_filter": "-all",
   "main_language": "python",
   "notebook_metadata_filter": "-all"
  },
  "kernelspec": {
   "display_name": "Python 3 (ipykernel)",
   "language": "python",
   "name": "python3"
  },
  "language_info": {
   "codemirror_mode": {
    "name": "ipython",
    "version": 3
   },
   "file_extension": ".py",
   "mimetype": "text/x-python",
   "name": "python",
   "nbconvert_exporter": "python",
   "pygments_lexer": "ipython3",
   "version": "3.9.18"
  }
 },
 "nbformat": 4,
 "nbformat_minor": 5
}
